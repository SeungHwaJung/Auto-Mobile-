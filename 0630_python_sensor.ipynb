{
  "nbformat": 4,
  "nbformat_minor": 0,
  "metadata": {
    "colab": {
      "provenance": [],
      "authorship_tag": "ABX9TyPZpd78FoPVc5Rksz9BaHqn",
      "include_colab_link": true
    },
    "kernelspec": {
      "name": "python3",
      "display_name": "Python 3"
    },
    "language_info": {
      "name": "python"
    }
  },
  "cells": [
    {
      "cell_type": "markdown",
      "metadata": {
        "id": "view-in-github",
        "colab_type": "text"
      },
      "source": [
        "<a href=\"https://colab.research.google.com/github/SeungHwaJung/Auto-Mobile-/blob/main/0630_python_sensor.ipynb\" target=\"_parent\"><img src=\"https://colab.research.google.com/assets/colab-badge.svg\" alt=\"Open In Colab\"/></a>"
      ]
    },
    {
      "cell_type": "code",
      "execution_count": null,
      "metadata": {
        "id": "rIlV3v3HOUC-"
      },
      "outputs": [],
      "source": [
        "sensors ={\n",
        "    \"front\": 8.0,\n",
        "    \"left\": 15.0,\n",
        "    \"right\": 4.0\n",
        "}\n",
        "\n",
        "safe_distance = 10.0\n",
        "\n",
        "obstacles = []\n",
        "\n",
        "def detect_obstacles(sensor_data, threshold):\n",
        "    for direction, distance in sensor_data.items():\n",
        "        if distance < threshold:\n",
        "            obstacles.append(direction)\n",
        "    return obstacles\n",
        "\n",
        "if __name__ == \"__main__\":\n",
        "    print(\" 장애물 감지 시스템 \")\n",
        "    print(\"-\" * 30)\n",
        "\n",
        "    # 1. 장애물 감지\n",
        "    obstacles = detect_obstacles(sensors, safe_distance)\n",
        "    print(f\"\\n감지된 장애물: {obstacles}\")\n",
        "\n",
        "    # 2. if문 작성\n",
        "    if \"front\" in obstacles:\n",
        "        elif \"left\" not in obstacles:\n",
        "            print(\"우회전하세요\")\n",
        "        elif \"right\" not in obstacles:\n",
        "            print(\"좌회전하세요\")\n",
        "        else:\n",
        "            print(\"정지\")\n",
        "    else:\n",
        "        print(\"직진\")\n"
      ]
    },
    {
      "cell_type": "markdown",
      "source": [
        "기본코드"
      ],
      "metadata": {
        "id": "4X34Ya3pu8_v"
      }
    },
    {
      "cell_type": "code",
      "source": [
        "# 센서 데이터 (거리 측정값, 단위: 미터)\n",
        "sensors = {\n",
        "    \"앞\": 8.0,\n",
        "    \"왼쪽\": 17.0,\n",
        "    \"오른쪽\": 4.0\n",
        "}\n",
        "# 안전 거리 설정\n",
        "safe_distance = 10.0\n",
        "if __name__ == \"__main__\":\n",
        "    print(\"자율주행 장애물 감지 시스템\")\n",
        "    print(\"-\" * 30)\n",
        "\n",
        "    # 장애물 감지\n",
        "    obstacles = []\n",
        "    for direction, distance in sensors.items():\n",
        "        if distance < safe_distance:\n",
        "            obstacles.append(direction)\n",
        "\n",
        "    print(f\"\\n🚨 감지된 장애물: {obstacles}\")"
      ],
      "metadata": {
        "id": "Qovf1lAVu8k8"
      },
      "execution_count": null,
      "outputs": []
    }
  ]
}