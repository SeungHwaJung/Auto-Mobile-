{
  "nbformat": 4,
  "nbformat_minor": 0,
  "metadata": {
    "colab": {
      "provenance": [],
      "authorship_tag": "ABX9TyP8nJVk3fyVVUcZ9hihgnKv",
      "include_colab_link": true
    },
    "kernelspec": {
      "name": "python3",
      "display_name": "Python 3"
    },
    "language_info": {
      "name": "python"
    }
  },
  "cells": [
    {
      "cell_type": "markdown",
      "metadata": {
        "id": "view-in-github",
        "colab_type": "text"
      },
      "source": [
        "<a href=\"https://colab.research.google.com/github/SeungHwaJung/Auto-Mobile-/blob/main/0717_python_yolov8_yt.ipynb\" target=\"_parent\"><img src=\"https://colab.research.google.com/assets/colab-badge.svg\" alt=\"Open In Colab\"/></a>"
      ]
    },
    {
      "cell_type": "markdown",
      "source": [
        "Youtube에서 다운로드 후 영상 추론"
      ],
      "metadata": {
        "id": "tjiXLkHz1Ldo"
      }
    },
    {
      "cell_type": "code",
      "source": [
        "# 📦 라이브러리 설치\n",
        "!pip install -q ultralytics yt-dlp opencv-python\n",
        "\n",
        "import os\n",
        "import cv2\n",
        "import torch\n",
        "from ultralytics import YOLO\n",
        "from IPython.display import display\n",
        "from google.colab import files\n",
        "\n",
        "# ✅ YOLOv8 모델 로드 (필요 시 yolov8s.pt, yolov8m.pt 등으로 변경)\n",
        "model = YOLO(\"yolov8n.pt\")\n",
        "\n",
        "# -----------------------------------------------------------------------------\n",
        "# 🎥 1. 유튜브 영상 다운로드 함수\n",
        "# -----------------------------------------------------------------------------\n",
        "def download_youtube_video(youtube_url, output_path='/content'):\n",
        "    import yt_dlp\n",
        "\n",
        "    ydl_opts = {\n",
        "        'outtmpl': os.path.join(output_path, '%(title)s.%(ext)s'),\n",
        "        'format': 'bestvideo[ext=mp4]+bestaudio[ext=m4a]/mp4',\n",
        "        'merge_output_format': 'mp4',\n",
        "        'quiet': True\n",
        "    }\n",
        "\n",
        "    with yt_dlp.YoutubeDL(ydl_opts) as ydl:\n",
        "        info = ydl.extract_info(youtube_url, download=True)\n",
        "        filename = ydl.prepare_filename(info).replace('.webm', '.mp4').replace('.mkv', '.mp4')\n",
        "        print(f\"✅ 다운로드 완료: {filename}\")\n",
        "        return filename\n",
        "\n",
        "# -----------------------------------------------------------------------------\n",
        "# 🧠 2. YOLOv8 추론 수행 함수\n",
        "# -----------------------------------------------------------------------------\n",
        "def run_yolo_on_video(input_path, output_path='/content/yolo_result.mp4'):\n",
        "    cap = cv2.VideoCapture(input_path)\n",
        "    width  = int(cap.get(cv2.CAP_PROP_FRAME_WIDTH))\n",
        "    height = int(cap.get(cv2.CAP_PROP_FRAME_HEIGHT))\n",
        "    fps    = cap.get(cv2.CAP_PROP_FPS)\n",
        "\n",
        "    fourcc = cv2.VideoWriter_fourcc(*'mp4v')\n",
        "    out    = cv2.VideoWriter(output_path, fourcc, fps, (width, height))\n",
        "\n",
        "    frame_count = int(cap.get(cv2.CAP_PROP_FRAME_COUNT))\n",
        "    print(f\"🎬 총 프레임: {frame_count} | FPS: {fps}\")\n",
        "\n",
        "    frame_idx = 0\n",
        "    while cap.isOpened():\n",
        "        ret, frame = cap.read()\n",
        "        if not ret:\n",
        "            break\n",
        "\n",
        "        # YOLO 추론 및 시각화\n",
        "        results = model.predict(frame, verbose=False)\n",
        "        annotated_frame = results[0].plot()\n",
        "\n",
        "        out.write(annotated_frame)\n",
        "        frame_idx += 1\n",
        "\n",
        "        if frame_idx % 30 == 0:\n",
        "            print(f\"🛠 처리 중... {frame_idx}/{frame_count} 프레임\")\n",
        "\n",
        "    cap.release()\n",
        "    out.release()\n",
        "    print(f\"✅ YOLO 추론 영상 저장 완료: {output_path}\")\n",
        "    return output_path\n",
        "\n",
        "# -----------------------------------------------------------------------------\n",
        "# 🚀 3. 전체 실행 함수\n",
        "# -----------------------------------------------------------------------------\n",
        "def youtube_to_yolo_inference(youtube_url):\n",
        "    video_path = download_youtube_video(youtube_url)\n",
        "    result_path = run_yolo_on_video(video_path)\n",
        "    files.download(result_path)  # Colab에서 결과 파일 다운로드 버튼 표시\n",
        "\n",
        "# -----------------------------------------------------------------------------\n",
        "# ▶️ 실행 예시\n",
        "# -----------------------------------------------------------------------------\n",
        "# 유튜브 영상 URL을 아래에 입력해서 실행\n",
        "youtube_url = \"https://www.youtube.com/watch?v=Zl-AgE-8oUg\"\n",
        "youtube_to_yolo_inference(youtube_url)\n"
      ],
      "metadata": {
        "colab": {
          "base_uri": "https://localhost:8080/",
          "height": 746
        },
        "id": "nZRe6BQy3PXE",
        "outputId": "134b6909-8120-477f-8311-497bae04f905"
      },
      "execution_count": 4,
      "outputs": [
        {
          "output_type": "stream",
          "name": "stdout",
          "text": [
            "✅ 다운로드 완료: /content/youtube video #Zl-AgE-8oUg.mp4\n",
            "🎬 총 프레임: 1175 | FPS: 24.0\n",
            "🛠 처리 중... 30/1175 프레임\n",
            "🛠 처리 중... 60/1175 프레임\n",
            "🛠 처리 중... 90/1175 프레임\n",
            "🛠 처리 중... 120/1175 프레임\n",
            "🛠 처리 중... 150/1175 프레임\n",
            "🛠 처리 중... 180/1175 프레임\n",
            "🛠 처리 중... 210/1175 프레임\n",
            "🛠 처리 중... 240/1175 프레임\n",
            "🛠 처리 중... 270/1175 프레임\n",
            "🛠 처리 중... 300/1175 프레임\n",
            "🛠 처리 중... 330/1175 프레임\n",
            "🛠 처리 중... 360/1175 프레임\n",
            "🛠 처리 중... 390/1175 프레임\n",
            "🛠 처리 중... 420/1175 프레임\n",
            "🛠 처리 중... 450/1175 프레임\n",
            "🛠 처리 중... 480/1175 프레임\n",
            "🛠 처리 중... 510/1175 프레임\n",
            "🛠 처리 중... 540/1175 프레임\n",
            "🛠 처리 중... 570/1175 프레임\n",
            "🛠 처리 중... 600/1175 프레임\n",
            "🛠 처리 중... 630/1175 프레임\n",
            "🛠 처리 중... 660/1175 프레임\n",
            "🛠 처리 중... 690/1175 프레임\n",
            "🛠 처리 중... 720/1175 프레임\n",
            "🛠 처리 중... 750/1175 프레임\n",
            "🛠 처리 중... 780/1175 프레임\n",
            "🛠 처리 중... 810/1175 프레임\n",
            "🛠 처리 중... 840/1175 프레임\n",
            "🛠 처리 중... 870/1175 프레임\n",
            "🛠 처리 중... 900/1175 프레임\n",
            "🛠 처리 중... 930/1175 프레임\n",
            "🛠 처리 중... 960/1175 프레임\n",
            "🛠 처리 중... 990/1175 프레임\n",
            "🛠 처리 중... 1020/1175 프레임\n",
            "🛠 처리 중... 1050/1175 프레임\n",
            "🛠 처리 중... 1080/1175 프레임\n",
            "🛠 처리 중... 1110/1175 프레임\n",
            "🛠 처리 중... 1140/1175 프레임\n",
            "🛠 처리 중... 1170/1175 프레임\n",
            "✅ YOLO 추론 영상 저장 완료: /content/yolo_result.mp4\n"
          ]
        },
        {
          "output_type": "display_data",
          "data": {
            "text/plain": [
              "<IPython.core.display.Javascript object>"
            ],
            "application/javascript": [
              "\n",
              "    async function download(id, filename, size) {\n",
              "      if (!google.colab.kernel.accessAllowed) {\n",
              "        return;\n",
              "      }\n",
              "      const div = document.createElement('div');\n",
              "      const label = document.createElement('label');\n",
              "      label.textContent = `Downloading \"${filename}\": `;\n",
              "      div.appendChild(label);\n",
              "      const progress = document.createElement('progress');\n",
              "      progress.max = size;\n",
              "      div.appendChild(progress);\n",
              "      document.body.appendChild(div);\n",
              "\n",
              "      const buffers = [];\n",
              "      let downloaded = 0;\n",
              "\n",
              "      const channel = await google.colab.kernel.comms.open(id);\n",
              "      // Send a message to notify the kernel that we're ready.\n",
              "      channel.send({})\n",
              "\n",
              "      for await (const message of channel.messages) {\n",
              "        // Send a message to notify the kernel that we're ready.\n",
              "        channel.send({})\n",
              "        if (message.buffers) {\n",
              "          for (const buffer of message.buffers) {\n",
              "            buffers.push(buffer);\n",
              "            downloaded += buffer.byteLength;\n",
              "            progress.value = downloaded;\n",
              "          }\n",
              "        }\n",
              "      }\n",
              "      const blob = new Blob(buffers, {type: 'application/binary'});\n",
              "      const a = document.createElement('a');\n",
              "      a.href = window.URL.createObjectURL(blob);\n",
              "      a.download = filename;\n",
              "      div.appendChild(a);\n",
              "      a.click();\n",
              "      div.remove();\n",
              "    }\n",
              "  "
            ]
          },
          "metadata": {}
        },
        {
          "output_type": "display_data",
          "data": {
            "text/plain": [
              "<IPython.core.display.Javascript object>"
            ],
            "application/javascript": [
              "download(\"download_9343e817-d7bd-4966-97ff-398271d56e20\", \"yolo_result.mp4\", 52858478)"
            ]
          },
          "metadata": {}
        }
      ]
    }
  ]
}