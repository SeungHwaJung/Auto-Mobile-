{
  "nbformat": 4,
  "nbformat_minor": 0,
  "metadata": {
    "colab": {
      "provenance": [],
      "authorship_tag": "ABX9TyPFNqSh1EW3ZSqFJYOhajGc",
      "include_colab_link": true
    },
    "kernelspec": {
      "name": "python3",
      "display_name": "Python 3"
    },
    "language_info": {
      "name": "python"
    }
  },
  "cells": [
    {
      "cell_type": "markdown",
      "metadata": {
        "id": "view-in-github",
        "colab_type": "text"
      },
      "source": [
        "<a href=\"https://colab.research.google.com/github/SeungHwaJung/Auto-Mobile-/blob/main/0702_python_numpy(%EC%82%AC%EC%A0%84%EA%B3%B5%EB%B6%80).ipynb\" target=\"_parent\"><img src=\"https://colab.research.google.com/assets/colab-badge.svg\" alt=\"Open In Colab\"/></a>"
      ]
    },
    {
      "cell_type": "markdown",
      "source": [
        "Numpy를 왜 사용해야하는지?\n",
        "NumPy는 배열을 다루는 데 사용되는 Python 라이브러리이다.\n",
        "\n",
        "또한 선형 대수, 푸리에 변환, 행렬의 영역에서 작업하기 위한 함수도 갖추고 있다.\n",
        "\n",
        "NumPy 배열은 목록과 달리 메모리의 한 연속된 위치에 저장되므로 프로세스가 매우\n",
        "\n",
        "효율적으로 액세스하고 조작할 수 있다.\n",
        "\n",
        "이런 행동을 컴퓨터 과학에서는 참조 지역성이라고 한다.\n",
        "\n",
        "이것이 NumPy가 리스트보다 빠른 주된 이유이다.\n",
        "\n",
        "언어는 C ro C++로 구성되어있다."
      ],
      "metadata": {
        "id": "VpJ95lqKlMqB"
      }
    },
    {
      "cell_type": "markdown",
      "source": [
        "배열"
      ],
      "metadata": {
        "id": "hArHTRiVGqRt"
      }
    },
    {
      "cell_type": "code",
      "execution_count": null,
      "metadata": {
        "id": "-Yf2PX-jGOy6"
      },
      "outputs": [],
      "source": [
        "import numpy as np"
      ]
    },
    {
      "cell_type": "markdown",
      "source": [
        "배열 인덱싱"
      ],
      "metadata": {
        "id": "EJ4rQeiSGy_C"
      }
    },
    {
      "cell_type": "code",
      "source": [
        "arr = np.array([10, 20, 30, 40])\n",
        "print(arr[2])  # 출력: 30"
      ],
      "metadata": {
        "id": "wQpShGSCGzfi"
      },
      "execution_count": null,
      "outputs": []
    },
    {
      "cell_type": "markdown",
      "source": [
        "배열 슬라이싱"
      ],
      "metadata": {
        "id": "vZ2xpsxiG6WA"
      }
    },
    {
      "cell_type": "code",
      "source": [
        "arr = np.array([1, 2, 3, 4, 5])\n",
        "print(arr[1:4])  # 출력: [2 3 4]"
      ],
      "metadata": {
        "id": "SdpOuxe2G6rQ"
      },
      "execution_count": null,
      "outputs": []
    },
    {
      "cell_type": "markdown",
      "source": [
        "데이터 유형"
      ],
      "metadata": {
        "id": "78Dr8VjrG8yi"
      }
    },
    {
      "cell_type": "code",
      "source": [
        "arr = np.array([1, 2, 3])\n",
        "print(arr.dtype)  # 출력: int64 (또는 시스템에 따라 다름)\n",
        "\n",
        "arr_float = np.array([1, 2, 3], dtype='float')\n",
        "print(arr_float.dtype)  # 출력: float64"
      ],
      "metadata": {
        "id": "eSIv1cgHG9BT"
      },
      "execution_count": null,
      "outputs": []
    },
    {
      "cell_type": "markdown",
      "source": [
        "복사 vs. 뷰"
      ],
      "metadata": {
        "id": "km8DQKFVG-Uu"
      }
    },
    {
      "cell_type": "code",
      "source": [
        "arr = np.array([1, 2, 3])\n",
        "copy_arr = arr.copy()\n",
        "view_arr = arr.view()\n",
        "\n",
        "arr[0] = 100\n",
        "print(copy_arr)  # [1 2 3]\n",
        "print(view_arr)  # [100 2 3]"
      ],
      "metadata": {
        "id": "VnAPoyVTG-lH"
      },
      "execution_count": null,
      "outputs": []
    },
    {
      "cell_type": "markdown",
      "source": [
        "배열 모양"
      ],
      "metadata": {
        "id": "Kr3IGaRTHFHs"
      }
    },
    {
      "cell_type": "code",
      "source": [
        "arr = np.array([[1, 2, 3], [4, 5, 6]])\n",
        "print(arr.shape)  # 출력: (2, 3)"
      ],
      "metadata": {
        "id": "_arCoDAXHABA"
      },
      "execution_count": null,
      "outputs": []
    },
    {
      "cell_type": "markdown",
      "source": [
        "배열 재구성"
      ],
      "metadata": {
        "id": "JQj66uJhkDGv"
      }
    },
    {
      "cell_type": "code",
      "source": [
        "arr = np.array([1, 2, 3, 4, 5, 6])\n",
        "reshaped = arr.reshape(2, 3)\n",
        "print(reshaped)"
      ],
      "metadata": {
        "id": "0grvoZo-kEOG"
      },
      "execution_count": null,
      "outputs": []
    },
    {
      "cell_type": "markdown",
      "source": [
        "배열 반복"
      ],
      "metadata": {
        "id": "1dkOMM01kFiF"
      }
    },
    {
      "cell_type": "code",
      "source": [
        "arr = np.array([1, 2])\n",
        "repeated = np.repeat(arr, 3)\n",
        "print(repeated)"
      ],
      "metadata": {
        "id": "6AapEeWWkGpx"
      },
      "execution_count": null,
      "outputs": []
    },
    {
      "cell_type": "markdown",
      "source": [
        "배열 조인"
      ],
      "metadata": {
        "id": "bdFQTXvfkJEU"
      }
    },
    {
      "cell_type": "code",
      "source": [
        "arr1 = np.array([1, 2])\n",
        "arr2 = np.array([3, 4])\n",
        "joined = np.concatenate((arr1, arr2))\n",
        "print(joined)"
      ],
      "metadata": {
        "id": "CHQFOPGdkLmT"
      },
      "execution_count": null,
      "outputs": []
    },
    {
      "cell_type": "markdown",
      "source": [
        "배열 분할"
      ],
      "metadata": {
        "id": "bmZ81JKykMeX"
      }
    },
    {
      "cell_type": "code",
      "source": [
        "arr = np.array([10, 20, 30, 40, 50, 60])\n",
        "splitted = np.split(arr, 3)\n",
        "print(splitted)"
      ],
      "metadata": {
        "id": "gW7edclHkN0W"
      },
      "execution_count": null,
      "outputs": []
    },
    {
      "cell_type": "markdown",
      "source": [
        "배열 검색"
      ],
      "metadata": {
        "id": "cCmhwyrMkO3L"
      }
    },
    {
      "cell_type": "code",
      "source": [
        "arr = np.array([10, 25, 30, 5])\n",
        "index = np.where(arr > 20)\n",
        "print(index)  # 출력: (array([1, 2]),)\n",
        "print(arr[index])  # 출력: [25 30]"
      ],
      "metadata": {
        "id": "4CFY7l7fkRIb"
      },
      "execution_count": null,
      "outputs": []
    },
    {
      "cell_type": "markdown",
      "source": [
        "배열 정렬"
      ],
      "metadata": {
        "id": "dFFJ15GekRsr"
      }
    },
    {
      "cell_type": "code",
      "source": [
        "arr = np.array([3, 1, 4, 2])\n",
        "sorted_arr = np.sort(arr)\n",
        "print(sorted_arr)"
      ],
      "metadata": {
        "id": "7YVbNfBekTV-"
      },
      "execution_count": null,
      "outputs": []
    },
    {
      "cell_type": "markdown",
      "source": [
        " 배열 필터"
      ],
      "metadata": {
        "id": "00_KdYl1kUPN"
      }
    },
    {
      "cell_type": "code",
      "source": [
        "arr = np.array([10, 20, 30, 40])\n",
        "filtered = arr[arr > 20]\n",
        "print(filtered)"
      ],
      "metadata": {
        "id": "v1qX5_DdkUqm"
      },
      "execution_count": null,
      "outputs": []
    },
    {
      "cell_type": "markdown",
      "source": [
        "Numpy 랜덤~"
      ],
      "metadata": {
        "id": "sagQyaJ6kZNk"
      }
    },
    {
      "cell_type": "markdown",
      "source": [
        "정규 분포"
      ],
      "metadata": {
        "id": "9mIOZY-Vkd5Y"
      }
    },
    {
      "cell_type": "code",
      "source": [
        "data = np.random.normal(loc=0, scale=1, size=1000)\n",
        "sns.histplot(data, kde=True)\n",
        "plt.title(\"정규분포\")\n",
        "plt.show()"
      ],
      "metadata": {
        "id": "6UD4fG8DkgBJ"
      },
      "execution_count": null,
      "outputs": []
    },
    {
      "cell_type": "markdown",
      "source": [
        "이항 분포"
      ],
      "metadata": {
        "id": "0_FeNYb5kgdo"
      }
    },
    {
      "cell_type": "code",
      "source": [
        "data = np.random.binomial(n=10, p=0.5, size=1000)\n",
        "sns.histplot(data, kde=False)\n",
        "plt.title(\"이항분포\")\n",
        "plt.show()"
      ],
      "metadata": {
        "id": "BpqNB-nxkiFg"
      },
      "execution_count": null,
      "outputs": []
    },
    {
      "cell_type": "markdown",
      "source": [
        "푸아송 분포 (Poisson)"
      ],
      "metadata": {
        "id": "5Y5qFUhrkjTH"
      }
    },
    {
      "cell_type": "code",
      "source": [
        "data = np.random.poisson(lam=3.0, size=1000)\n",
        "sns.histplot(data, kde=False)\n",
        "plt.title(\"푸아송분포\")\n",
        "plt.show()"
      ],
      "metadata": {
        "id": "PyOhM1pTkkjZ"
      },
      "execution_count": null,
      "outputs": []
    },
    {
      "cell_type": "markdown",
      "source": [
        "균일 분포"
      ],
      "metadata": {
        "id": "UDgABXgRkk4O"
      }
    },
    {
      "cell_type": "markdown",
      "source": [
        "data = np.random.uniform(low=0.0, high=1.0, size=1000)\n",
        "sns.histplot(data, kde=True)\n",
        "plt.title(\"균일분포\")\n",
        "plt.show()"
      ],
      "metadata": {
        "id": "-4l_imYXkmDt"
      }
    },
    {
      "cell_type": "code",
      "source": [
        "지수 분포"
      ],
      "metadata": {
        "id": "TpHV0-rbknvw"
      },
      "execution_count": null,
      "outputs": []
    },
    {
      "cell_type": "code",
      "source": [
        "data = np.random.exponential(scale=1.0, size=1000)\n",
        "sns.histplot(data, kde=True)\n",
        "plt.title(\"지수분포\")\n",
        "plt.show()"
      ],
      "metadata": {
        "id": "HjUK2NC2koth"
      },
      "execution_count": null,
      "outputs": []
    },
    {
      "cell_type": "markdown",
      "source": [
        "카이제곱 분포"
      ],
      "metadata": {
        "id": "PHyHWX73kpYy"
      }
    },
    {
      "cell_type": "code",
      "source": [
        "from scipy.stats import chi2\n",
        "data = chi2.rvs(df=4, size=1000)\n",
        "sns.histplot(data, kde=True)\n",
        "plt.title(\"카이제곱분포\")\n",
        "plt.show()"
      ],
      "metadata": {
        "id": "ellj6nm2ksOz"
      },
      "execution_count": null,
      "outputs": []
    },
    {
      "cell_type": "markdown",
      "source": [
        "다항 분포"
      ],
      "metadata": {
        "id": "ctkhGoLYkt9M"
      }
    },
    {
      "cell_type": "code",
      "source": [
        "data = np.random.multinomial(n=10, pvals=[0.2, 0.3, 0.5], size=5)\n",
        "print(data)"
      ],
      "metadata": {
        "id": "1FO3eVEVkutx"
      },
      "execution_count": null,
      "outputs": []
    },
    {
      "cell_type": "markdown",
      "source": [
        "지프 분포, 파레토 분포 등 (고급 분포)"
      ],
      "metadata": {
        "id": "kIiI2HqLkwMi"
      }
    },
    {
      "cell_type": "code",
      "source": [
        "from scipy.stats import zipf, pareto\n",
        "\n",
        "zipf_data = zipf.rvs(a=2, size=1000)\n",
        "pareto_data = pareto.rvs(b=2, size=1000)\n",
        "\n",
        "sns.histplot(zipf_data, kde=False)\n",
        "plt.title(\"지프분포\")\n",
        "plt.show()\n",
        "\n",
        "sns.histplot(pareto_data, kde=False)\n",
        "plt.title(\"파레토분포\")\n",
        "plt.show()"
      ],
      "metadata": {
        "id": "5twY5xUCkxUB"
      },
      "execution_count": null,
      "outputs": []
    },
    {
      "cell_type": "markdown",
      "source": [
        "ufunc 사용과 예제"
      ],
      "metadata": {
        "id": "gt2ojsKIkyQ-"
      }
    },
    {
      "cell_type": "markdown",
      "source": [
        "간단한 산술 연산"
      ],
      "metadata": {
        "id": "pA_Y1DmNk2e6"
      }
    },
    {
      "cell_type": "code",
      "source": [
        "arr = np.array([1, 2, 3])\n",
        "print(np.add(arr, 2))    # [3 4 5]\n",
        "print(np.multiply(arr, 3))  # [3 6 9]"
      ],
      "metadata": {
        "id": "9plK8b-Xk3nh"
      },
      "execution_count": null,
      "outputs": []
    },
    {
      "cell_type": "markdown",
      "source": [
        "소수점 반올림"
      ],
      "metadata": {
        "id": "xn3n14OVk4tx"
      }
    },
    {
      "cell_type": "code",
      "source": [
        "arr = np.array([1.234, 5.678])\n",
        "print(np.round(arr, 1))  # [1.2 5.7]"
      ],
      "metadata": {
        "id": "fHvM2vQhk6CN"
      },
      "execution_count": null,
      "outputs": []
    },
    {
      "cell_type": "markdown",
      "source": [
        "로그 함수"
      ],
      "metadata": {
        "id": "RqfdCe6Ck6Qm"
      }
    },
    {
      "cell_type": "code",
      "source": [
        "arr = np.array([1, np.e, np.e**2])\n",
        "print(np.log(arr))  # 자연로그"
      ],
      "metadata": {
        "id": "BmxZ3-ksk7uM"
      },
      "execution_count": null,
      "outputs": []
    },
    {
      "cell_type": "markdown",
      "source": [
        "요약 (누적합, 평균 등)"
      ],
      "metadata": {
        "id": "_fr63U0Fk8a6"
      }
    },
    {
      "cell_type": "code",
      "source": [
        "arr = np.array([1, 2, 3, 4])\n",
        "print(np.sum(arr))     # 10\n",
        "print(np.mean(arr))    # 2.5"
      ],
      "metadata": {
        "id": "14PhmLagk9eJ"
      },
      "execution_count": null,
      "outputs": []
    },
    {
      "cell_type": "markdown",
      "source": [
        "LCM, 최대공약수"
      ],
      "metadata": {
        "id": "02SFeGY7k-2_"
      }
    },
    {
      "cell_type": "code",
      "source": [
        "print(np.lcm(12, 18))   # 36\n",
        "print(np.gcd(12, 18))   # 6"
      ],
      "metadata": {
        "id": "hq3_TH8ck_O_"
      },
      "execution_count": null,
      "outputs": []
    },
    {
      "cell_type": "markdown",
      "source": [
        "삼각함수"
      ],
      "metadata": {
        "id": "BHLZbtHLk_-u"
      }
    },
    {
      "cell_type": "code",
      "source": [
        "arr = np.array([0, np.pi/2, np.pi])\n",
        "print(np.sin(arr))  # [0. 1. 0.]"
      ],
      "metadata": {
        "id": "8xcNwYGGlBCh"
      },
      "execution_count": null,
      "outputs": []
    },
    {
      "cell_type": "markdown",
      "source": [
        "차이점, 제곱, 곱"
      ],
      "metadata": {
        "id": "eAmcusqOlCAS"
      }
    },
    {
      "cell_type": "code",
      "source": [
        "a = np.array([1, 2, 3])\n",
        "b = np.array([4, 5, 6])\n",
        "print(np.subtract(b, a))  # [3 3 3]\n",
        "print(np.power(a, 2))     # [1 4 9]"
      ],
      "metadata": {
        "id": "Lx4Z-Rk7lCbN"
      },
      "execution_count": null,
      "outputs": []
    },
    {
      "cell_type": "markdown",
      "source": [
        "설정 작업 (clip 등)"
      ],
      "metadata": {
        "id": "fUvPmNaTlDwN"
      }
    },
    {
      "cell_type": "code",
      "source": [
        "arr = np.array([5, 15, 25])\n",
        "print(np.clip(arr, 10, 20))  # [10 15 20] : 최소~최대로 값 제한"
      ],
      "metadata": {
        "id": "C5GmWDDqlDBc"
      },
      "execution_count": null,
      "outputs": []
    }
  ]
}