{
  "nbformat": 4,
  "nbformat_minor": 0,
  "metadata": {
    "colab": {
      "provenance": [],
      "toc_visible": true,
      "authorship_tag": "ABX9TyNV8EdItxOxKbFEMCI8Sm80",
      "include_colab_link": true
    },
    "kernelspec": {
      "name": "python3",
      "display_name": "Python 3"
    },
    "language_info": {
      "name": "python"
    }
  },
  "cells": [
    {
      "cell_type": "markdown",
      "metadata": {
        "id": "view-in-github",
        "colab_type": "text"
      },
      "source": [
        "<a href=\"https://colab.research.google.com/github/SeungHwaJung/Auto-Mobile-/blob/main/0625_python_define_%26_class.ipynb\" target=\"_parent\"><img src=\"https://colab.research.google.com/assets/colab-badge.svg\" alt=\"Open In Colab\"/></a>"
      ]
    },
    {
      "cell_type": "markdown",
      "source": [
        "define"
      ],
      "metadata": {
        "id": "DI8FWYAJuPtC"
      }
    },
    {
      "cell_type": "code",
      "execution_count": 2,
      "metadata": {
        "id": "5li-Y4LzgKh7"
      },
      "outputs": [],
      "source": [
        "#class\n",
        "class Person:\n",
        "    def __init__(self, name):\n",
        "        self.name = name\n",
        "\n",
        "    def say_hello(self):\n",
        "        print(f\"안녕! 나는 {self.name}이야.\")\n",
        "\n",
        "class Animal:\n",
        "    def __init__(self, kind):\n",
        "        self.kind = kind\n",
        "\n",
        "    def sound(self):\n",
        "        print(f\"{self.kind} 소리가 납니다.\")\n",
        "\n",
        "class Calculator:\n",
        "    def add(self, a, b):\n",
        "        return a + b\n",
        "\n",
        "class Student:\n",
        "    def __init__(self, name, grade):\n",
        "        self.name = name\n",
        "        self.grade = grade\n",
        "\n",
        "    def info(self):\n",
        "        return f\"{self.name}의 성적은 {self.grade}\"\n",
        "\n",
        "class Car:\n",
        "    def __init__(self, brand):\n",
        "        self.brand = brand\n",
        "\n",
        "    def drive(self):\n",
        "        print(f\"{self.brand} 자동차가 출발합니다!\")\n",
        "\n",
        "# 함수 정의\n",
        "def greet():\n",
        "    print(\"안녕하세요!\")\n",
        "\n",
        "def add(a, b):\n",
        "    return a + b\n",
        "\n",
        "def is_even(n):\n",
        "    return n % 2 == 0\n",
        "\n",
        "def square(n):\n",
        "    return n ** 2\n",
        "\n",
        "def say_name(name):\n",
        "    return f\"제 이름은 {name}입니다.\""
      ]
    },
    {
      "cell_type": "code",
      "source": [],
      "metadata": {
        "id": "RC-Vy73tuSqW"
      },
      "execution_count": null,
      "outputs": []
    },
    {
      "cell_type": "markdown",
      "source": [
        "# 새 섹션"
      ],
      "metadata": {
        "id": "KDUg1Bv8uHeb"
      }
    },
    {
      "cell_type": "code",
      "source": [],
      "metadata": {
        "id": "GMUxexgEog1a"
      },
      "execution_count": null,
      "outputs": []
    }
  ]
}