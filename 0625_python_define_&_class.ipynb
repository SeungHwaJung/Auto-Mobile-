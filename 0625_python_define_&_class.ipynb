{
  "nbformat": 4,
  "nbformat_minor": 0,
  "metadata": {
    "colab": {
      "provenance": [],
      "authorship_tag": "ABX9TyNoVyqjnzrbKZ1ydWyPuGLI",
      "include_colab_link": true
    },
    "kernelspec": {
      "name": "python3",
      "display_name": "Python 3"
    },
    "language_info": {
      "name": "python"
    }
  },
  "cells": [
    {
      "cell_type": "markdown",
      "metadata": {
        "id": "view-in-github",
        "colab_type": "text"
      },
      "source": [
        "<a href=\"https://colab.research.google.com/github/SeungHwaJung/Auto-Mobile-/blob/main/0625_python_define_%26_class.ipynb\" target=\"_parent\"><img src=\"https://colab.research.google.com/assets/colab-badge.svg\" alt=\"Open In Colab\"/></a>"
      ]
    },
    {
      "cell_type": "markdown",
      "source": [
        "define"
      ],
      "metadata": {
        "id": "DI8FWYAJuPtC"
      }
    },
    {
      "cell_type": "code",
      "execution_count": 2,
      "metadata": {
        "id": "5li-Y4LzgKh7"
      },
      "outputs": [],
      "source": [
        "# 함수 정의\n",
        "def greet():\n",
        "    print(\"안녕하세요!\")\n",
        "\n",
        "def add(a, b):\n",
        "    return a + b\n",
        "\n",
        "def is_even(n):\n",
        "    return n % 2 == 0\n",
        "\n",
        "def square(n):\n",
        "    return n ** 2\n",
        "\n",
        "def say_name(name):\n",
        "    return f\"제 이름은 {name}입니다.\"\n"
      ]
    },
    {
      "cell_type": "markdown",
      "source": [
        "class"
      ],
      "metadata": {
        "id": "Z8_kK1JdygOs"
      }
    },
    {
      "cell_type": "code",
      "source": [
        "class Person:\n",
        "    def __init__(self, name):\n",
        "        self.name = name\n",
        "\n",
        "    def say_hello(self):\n",
        "        print(f\"안녕! 나는 {self.name}이야.\")\n",
        "\n",
        "class Animal:\n",
        "    def __init__(self, kind):\n",
        "        self.kind = kind\n",
        "\n",
        "    def sound(self):\n",
        "        print(f\"{self.kind} 소리가 납니다.\")\n",
        "\n",
        "class Calculator:\n",
        "    def add(self, a, b):\n",
        "        return a + b\n",
        "\n",
        "class Student:\n",
        "    def __init__(self, name, grade):\n",
        "        self.name = name\n",
        "        self.grade = grade\n",
        "\n",
        "    def info(self):\n",
        "        return f\"{self.name}의 성적은 {self.grade}\"\n",
        "\n",
        "class Car:\n",
        "    def __init__(self, brand):\n",
        "        self.brand = brand\n",
        "\n",
        "    def drive(self):\n",
        "        print(f\"{self.brand} 자동차가 출발합니다!\")\n",
        "\n",
        "class Calculator:\n",
        "    def add(self, a, b):\n",
        "        return a + b\n",
        "\n",
        "    def sub(self, a, b):\n",
        "        return a - b"
      ],
      "metadata": {
        "id": "GQshne2YyosZ"
      },
      "execution_count": 4,
      "outputs": []
    },
    {
      "cell_type": "markdown",
      "source": [
        "자율주행관련"
      ],
      "metadata": {
        "id": "WTxmnEQVyuMt"
      }
    },
    {
      "cell_type": "code",
      "source": [
        "class Car:\n",
        "    def __init__(self, brand):\n",
        "        self.brand = brand\n",
        "        self.speed = 0\n",
        "        self.running = False\n",
        "\n",
        "    def drive(self):\n",
        "        self.running = True\n",
        "        print(f\"{self.brand} 자동차가 주행을 시작합니다.\")\n",
        "\n",
        "    def stop(self):\n",
        "        self.running = False\n",
        "        self.speed = 0\n",
        "        print(f\"{self.brand} 자동차가 멈췄습니다.\")\n",
        "\n",
        "    def accelerate(self, value):\n",
        "        self.speed += value\n",
        "        print(f\"{self.brand} 자동차 속도가 {self.speed}km/h로 증가했습니다.\")\n",
        "\n",
        "    def decelerate(self, value):\n",
        "        self.speed -= value\n",
        "        if self.speed < 0:\n",
        "            self.speed = 0\n",
        "        print(f\"{self.brand} 자동차 속도가 {self.speed}km/h로 감소했습니다.\")"
      ],
      "metadata": {
        "id": "KT-wfr8ayxF1"
      },
      "execution_count": 5,
      "outputs": []
    },
    {
      "cell_type": "markdown",
      "source": [
        "# For문으로 자율주행관련"
      ],
      "metadata": {
        "id": "KDUg1Bv8uHeb"
      }
    },
    {
      "cell_type": "code",
      "source": [
        "class Car:\n",
        "    def __init__(self, brand):\n",
        "        self.brand = brand\n",
        "        self.speed = 0\n",
        "        self.running = False\n",
        "\n",
        "    def drive(self):\n",
        "        self.running = True\n",
        "        print(f\"{self.brand} 자동차가 주행을 시작합니다.\")\n",
        "\n",
        "    def stop(self):\n",
        "        self.running = False\n",
        "        self.speed = 0\n",
        "        print(f\"{self.brand} 자동차가 멈췄습니다.\")\n",
        "\n",
        "    def accelerate(self, value):\n",
        "        self.speed += value\n",
        "        print(f\"{self.brand} 자동차 속도가 {self.speed}km/h로 증가했습니다.\")\n",
        "\n",
        "    def decelerate(self, value):\n",
        "        self.speed -= value\n",
        "        if self.speed < 0:\n",
        "            self.speed = 0\n",
        "        print(f\"{self.brand} 자동차 속도가 {self.speed}km/h로 감소했습니다.\")\n",
        "\n",
        "my_car = Car(\"테슬라\")\n",
        "my_car.drive()\n",
        "\n",
        "for i in range(5):\n",
        "    my_car.accelerate(10)\n",
        "\n",
        "my_car = Car(\"기아\")\n",
        "my_car.drive()\n",
        "my_car.accelerate(50)  # 처음에 속도 50\n",
        "\n",
        "for i in range(5):\n",
        "    my_car.decelerate(10)\n",
        "\n",
        "brands = [\"현대\", \"기아\", \"BMW\", \"벤츠\", \"테슬라\"]\n",
        "\n",
        "for brand in brands:      # 여러 브랜드의 자동차를 순서대로 각각 출발\n",
        "    car = Car(brand)\n",
        "    car.drive()\n",
        "\n",
        "distance_left = 50  # 남은거리50kmmm\n",
        "my_car = Car(\"벤츠\")\n",
        "my_car.drive()\n",
        "my_car.accelerate(20)\n",
        "\n",
        "for km in range(1, distance_left + 1):\n",
        "    print(f\"{km}km 이동 중... 현재 속도: {my_car.speed}km/h\")\n",
        "    if km % 10 == 0:\n",
        "        print(\"X 구간 점검 중, 잠시 정차\")\n",
        "        my_car.stop()\n",
        "        my_car.drive()\n",
        "\n",
        "cars = [Car(\"현대\"), Car(\"기아\"), Car(\"테슬라\")] #같이출발\n",
        "\n",
        "for car in cars:\n",
        "    car.drive()\n",
        "    for _ in range(3):\n",
        "        car.accelerate(15)\n",
        "    car.stop()"
      ],
      "metadata": {
        "id": "GMUxexgEog1a",
        "colab": {
          "base_uri": "https://localhost:8080/"
        },
        "outputId": "6261bfae-2a8f-4adf-f446-c40b58602305"
      },
      "execution_count": 6,
      "outputs": [
        {
          "output_type": "stream",
          "name": "stdout",
          "text": [
            "테슬라 자동차가 주행을 시작합니다.\n",
            "테슬라 자동차 속도가 10km/h로 증가했습니다.\n",
            "테슬라 자동차 속도가 20km/h로 증가했습니다.\n",
            "테슬라 자동차 속도가 30km/h로 증가했습니다.\n",
            "테슬라 자동차 속도가 40km/h로 증가했습니다.\n",
            "테슬라 자동차 속도가 50km/h로 증가했습니다.\n",
            "기아 자동차가 주행을 시작합니다.\n",
            "기아 자동차 속도가 50km/h로 증가했습니다.\n",
            "기아 자동차 속도가 40km/h로 감소했습니다.\n",
            "기아 자동차 속도가 30km/h로 감소했습니다.\n",
            "기아 자동차 속도가 20km/h로 감소했습니다.\n",
            "기아 자동차 속도가 10km/h로 감소했습니다.\n",
            "기아 자동차 속도가 0km/h로 감소했습니다.\n",
            "현대 자동차가 주행을 시작합니다.\n",
            "기아 자동차가 주행을 시작합니다.\n",
            "BMW 자동차가 주행을 시작합니다.\n",
            "벤츠 자동차가 주행을 시작합니다.\n",
            "테슬라 자동차가 주행을 시작합니다.\n",
            "벤츠 자동차가 주행을 시작합니다.\n",
            "벤츠 자동차 속도가 20km/h로 증가했습니다.\n",
            "1km 이동 중... 현재 속도: 20km/h\n",
            "2km 이동 중... 현재 속도: 20km/h\n",
            "3km 이동 중... 현재 속도: 20km/h\n",
            "4km 이동 중... 현재 속도: 20km/h\n",
            "5km 이동 중... 현재 속도: 20km/h\n",
            "6km 이동 중... 현재 속도: 20km/h\n",
            "7km 이동 중... 현재 속도: 20km/h\n",
            "8km 이동 중... 현재 속도: 20km/h\n",
            "9km 이동 중... 현재 속도: 20km/h\n",
            "10km 이동 중... 현재 속도: 20km/h\n",
            "X 구간 점검 중, 잠시 정차\n",
            "벤츠 자동차가 멈췄습니다.\n",
            "벤츠 자동차가 주행을 시작합니다.\n",
            "11km 이동 중... 현재 속도: 0km/h\n",
            "12km 이동 중... 현재 속도: 0km/h\n",
            "13km 이동 중... 현재 속도: 0km/h\n",
            "14km 이동 중... 현재 속도: 0km/h\n",
            "15km 이동 중... 현재 속도: 0km/h\n",
            "16km 이동 중... 현재 속도: 0km/h\n",
            "17km 이동 중... 현재 속도: 0km/h\n",
            "18km 이동 중... 현재 속도: 0km/h\n",
            "19km 이동 중... 현재 속도: 0km/h\n",
            "20km 이동 중... 현재 속도: 0km/h\n",
            "X 구간 점검 중, 잠시 정차\n",
            "벤츠 자동차가 멈췄습니다.\n",
            "벤츠 자동차가 주행을 시작합니다.\n",
            "21km 이동 중... 현재 속도: 0km/h\n",
            "22km 이동 중... 현재 속도: 0km/h\n",
            "23km 이동 중... 현재 속도: 0km/h\n",
            "24km 이동 중... 현재 속도: 0km/h\n",
            "25km 이동 중... 현재 속도: 0km/h\n",
            "26km 이동 중... 현재 속도: 0km/h\n",
            "27km 이동 중... 현재 속도: 0km/h\n",
            "28km 이동 중... 현재 속도: 0km/h\n",
            "29km 이동 중... 현재 속도: 0km/h\n",
            "30km 이동 중... 현재 속도: 0km/h\n",
            "X 구간 점검 중, 잠시 정차\n",
            "벤츠 자동차가 멈췄습니다.\n",
            "벤츠 자동차가 주행을 시작합니다.\n",
            "31km 이동 중... 현재 속도: 0km/h\n",
            "32km 이동 중... 현재 속도: 0km/h\n",
            "33km 이동 중... 현재 속도: 0km/h\n",
            "34km 이동 중... 현재 속도: 0km/h\n",
            "35km 이동 중... 현재 속도: 0km/h\n",
            "36km 이동 중... 현재 속도: 0km/h\n",
            "37km 이동 중... 현재 속도: 0km/h\n",
            "38km 이동 중... 현재 속도: 0km/h\n",
            "39km 이동 중... 현재 속도: 0km/h\n",
            "40km 이동 중... 현재 속도: 0km/h\n",
            "X 구간 점검 중, 잠시 정차\n",
            "벤츠 자동차가 멈췄습니다.\n",
            "벤츠 자동차가 주행을 시작합니다.\n",
            "41km 이동 중... 현재 속도: 0km/h\n",
            "42km 이동 중... 현재 속도: 0km/h\n",
            "43km 이동 중... 현재 속도: 0km/h\n",
            "44km 이동 중... 현재 속도: 0km/h\n",
            "45km 이동 중... 현재 속도: 0km/h\n",
            "46km 이동 중... 현재 속도: 0km/h\n",
            "47km 이동 중... 현재 속도: 0km/h\n",
            "48km 이동 중... 현재 속도: 0km/h\n",
            "49km 이동 중... 현재 속도: 0km/h\n",
            "50km 이동 중... 현재 속도: 0km/h\n",
            "X 구간 점검 중, 잠시 정차\n",
            "벤츠 자동차가 멈췄습니다.\n",
            "벤츠 자동차가 주행을 시작합니다.\n",
            "현대 자동차가 주행을 시작합니다.\n",
            "현대 자동차 속도가 15km/h로 증가했습니다.\n",
            "현대 자동차 속도가 30km/h로 증가했습니다.\n",
            "현대 자동차 속도가 45km/h로 증가했습니다.\n",
            "현대 자동차가 멈췄습니다.\n",
            "기아 자동차가 주행을 시작합니다.\n",
            "기아 자동차 속도가 15km/h로 증가했습니다.\n",
            "기아 자동차 속도가 30km/h로 증가했습니다.\n",
            "기아 자동차 속도가 45km/h로 증가했습니다.\n",
            "기아 자동차가 멈췄습니다.\n",
            "테슬라 자동차가 주행을 시작합니다.\n",
            "테슬라 자동차 속도가 15km/h로 증가했습니다.\n",
            "테슬라 자동차 속도가 30km/h로 증가했습니다.\n",
            "테슬라 자동차 속도가 45km/h로 증가했습니다.\n",
            "테슬라 자동차가 멈췄습니다.\n"
          ]
        }
      ]
    }
  ]
}