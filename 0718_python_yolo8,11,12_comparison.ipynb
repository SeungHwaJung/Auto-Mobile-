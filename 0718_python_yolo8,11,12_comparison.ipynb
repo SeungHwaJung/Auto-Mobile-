{
  "nbformat": 4,
  "nbformat_minor": 0,
  "metadata": {
    "colab": {
      "provenance": [],
      "gpuType": "T4",
      "authorship_tag": "ABX9TyNN5s6yatIzzXR6BDfI46pg",
      "include_colab_link": true
    },
    "kernelspec": {
      "name": "python3",
      "display_name": "Python 3"
    },
    "language_info": {
      "name": "python"
    },
    "accelerator": "GPU"
  },
  "cells": [
    {
      "cell_type": "markdown",
      "metadata": {
        "id": "view-in-github",
        "colab_type": "text"
      },
      "source": [
        "<a href=\"https://colab.research.google.com/github/SeungHwaJung/Auto-Mobile-/blob/main/0718_python_yolo8%2C11%2C12_comparison.ipynb\" target=\"_parent\"><img src=\"https://colab.research.google.com/assets/colab-badge.svg\" alt=\"Open In Colab\"/></a>"
      ]
    },
    {
      "cell_type": "code",
      "execution_count": 3,
      "metadata": {
        "colab": {
          "base_uri": "https://localhost:8080/",
          "height": 352
        },
        "id": "pJnIXVuUguN0",
        "outputId": "acf392d7-d562-4bd0-e951-88be00a73565"
      },
      "outputs": [
        {
          "output_type": "stream",
          "name": "stderr",
          "text": [
            "ERROR: [youtube] Zl-AgE-8oUg: Sign in to confirm you’re not a bot. Use --cookies-from-browser or --cookies for the authentication. See  https://github.com/yt-dlp/yt-dlp/wiki/FAQ#how-do-i-pass-cookies-to-yt-dlp  for how to manually pass cookies. Also see  https://github.com/yt-dlp/yt-dlp/wiki/Extractors#exporting-youtube-cookies  for tips on effectively exporting YouTube cookies\n"
          ]
        },
        {
          "output_type": "stream",
          "name": "stdout",
          "text": [
            "❌ 다운로드 실패: ERROR: [youtube] Zl-AgE-8oUg: Sign in to confirm you’re not a bot. Use --cookies-from-browser or --cookies for the authentication. See  https://github.com/yt-dlp/yt-dlp/wiki/FAQ#how-do-i-pass-cookies-to-yt-dlp  for how to manually pass cookies. Also see  https://github.com/yt-dlp/yt-dlp/wiki/Extractors#exporting-youtube-cookies  for tips on effectively exporting YouTube cookies\n"
          ]
        },
        {
          "output_type": "error",
          "ename": "ZeroDivisionError",
          "evalue": "float division by zero",
          "traceback": [
            "\u001b[0;31m---------------------------------------------------------------------------\u001b[0m",
            "\u001b[0;31mZeroDivisionError\u001b[0m                         Traceback (most recent call last)",
            "\u001b[0;32m/tmp/ipython-input-3-2858552644.py\u001b[0m in \u001b[0;36m<cell line: 0>\u001b[0;34m()\u001b[0m\n\u001b[1;32m    101\u001b[0m \u001b[0;31m# ----------------------------------------------------------------------\u001b[0m\u001b[0;34m\u001b[0m\u001b[0;34m\u001b[0m\u001b[0m\n\u001b[1;32m    102\u001b[0m \u001b[0myoutube_url\u001b[0m \u001b[0;34m=\u001b[0m \u001b[0;34m\"https://www.youtube.com/watch?v=Zl-AgE-8oUg\"\u001b[0m\u001b[0;34m\u001b[0m\u001b[0;34m\u001b[0m\u001b[0m\n\u001b[0;32m--> 103\u001b[0;31m \u001b[0mrun_fps_comparison\u001b[0m\u001b[0;34m(\u001b[0m\u001b[0myoutube_url\u001b[0m\u001b[0;34m)\u001b[0m\u001b[0;34m\u001b[0m\u001b[0;34m\u001b[0m\u001b[0m\n\u001b[0m",
            "\u001b[0;32m/tmp/ipython-input-3-2858552644.py\u001b[0m in \u001b[0;36mrun_fps_comparison\u001b[0;34m(youtube_url)\u001b[0m\n\u001b[1;32m     83\u001b[0m     \"Δ FPS vs v8 (%)\": [\n\u001b[1;32m     84\u001b[0m         \u001b[0;36m0\u001b[0m\u001b[0;34m,\u001b[0m\u001b[0;34m\u001b[0m\u001b[0;34m\u001b[0m\u001b[0m\n\u001b[0;32m---> 85\u001b[0;31m         \u001b[0mround\u001b[0m\u001b[0;34m(\u001b[0m\u001b[0;34m(\u001b[0m\u001b[0mfps_v11\u001b[0m \u001b[0;34m-\u001b[0m \u001b[0mfps_v8\u001b[0m\u001b[0;34m)\u001b[0m \u001b[0;34m/\u001b[0m \u001b[0mfps_v8\u001b[0m \u001b[0;34m*\u001b[0m \u001b[0;36m100\u001b[0m\u001b[0;34m,\u001b[0m \u001b[0;36m2\u001b[0m\u001b[0;34m)\u001b[0m\u001b[0;34m\u001b[0m\u001b[0;34m\u001b[0m\u001b[0m\n\u001b[0m\u001b[1;32m     86\u001b[0m     ]\n\u001b[1;32m     87\u001b[0m })\n",
            "\u001b[0;31mZeroDivisionError\u001b[0m: float division by zero"
          ]
        }
      ],
      "source": [
        "# 📦 라이브러리 설치\n",
        "!pip install -q ultralytics yt-dlp opencv-python pandas\n",
        "\n",
        "# 📁 기본 임포트\n",
        "import os\n",
        "import cv2\n",
        "import time\n",
        "import pandas as pd\n",
        "from ultralytics import YOLO\n",
        "from IPython.display import Markdown, display\n",
        "\n",
        "# ----------------------------------------------------------------------\n",
        "# 🎥 1. 유튜브 영상 다운로드\n",
        "# ----------------------------------------------------------------------\n",
        "def download_youtube_video(youtube_url, output_path='/content'):\n",
        "    import yt_dlp\n",
        "    from datetime import datetime\n",
        "\n",
        "    safe_filename = f\"youtube_video_{datetime.now().strftime('%Y%m%d_%H%M%S')}.mp4\"\n",
        "    full_path = os.path.join(output_path, safe_filename)\n",
        "\n",
        "    ydl_opts = {\n",
        "        'outtmpl': full_path,\n",
        "        'format': 'bestvideo[ext=mp4]+bestaudio[ext=m4a]/mp4',\n",
        "        'merge_output_format': 'mp4',\n",
        "        'quiet': True,\n",
        "    }\n",
        "\n",
        "    try:\n",
        "        with yt_dlp.YoutubeDL(ydl_opts) as ydl:\n",
        "            ydl.download([youtube_url])\n",
        "        print(f\"✅ 다운로드 완료: {full_path}\")\n",
        "        return full_path\n",
        "    except Exception as e:\n",
        "        print(f\"❌ 다운로드 실패: {e}\")\n",
        "        return None\n",
        "\n",
        "\n",
        "# ----------------------------------------------------------------------\n",
        "# 🧠 2. FPS 측정 함수\n",
        "# ----------------------------------------------------------------------\n",
        "def measure_fps(model, video_path):\n",
        "    cap = cv2.VideoCapture(video_path)\n",
        "    frame_count = int(cap.get(cv2.CAP_PROP_FRAME_COUNT))\n",
        "    start_time = time.time()\n",
        "\n",
        "    processed_frames = 0\n",
        "    while cap.isOpened():\n",
        "        ret, frame = cap.read()\n",
        "        if not ret:\n",
        "            break\n",
        "        model.predict(frame, verbose=False)\n",
        "        processed_frames += 1\n",
        "\n",
        "    cap.release()\n",
        "    elapsed = time.time() - start_time\n",
        "    fps = processed_frames / elapsed if elapsed > 0 else 0\n",
        "    return fps, elapsed, processed_frames\n",
        "\n",
        "# ----------------------------------------------------------------------\n",
        "# 🚀 3. 전체 수행 함수\n",
        "# ----------------------------------------------------------------------\n",
        "def run_fps_comparison(youtube_url):\n",
        "    # 1. 유튜브 영상 다운로드\n",
        "    video_path = download_youtube_video(youtube_url)\n",
        "\n",
        "    # 2. YOLO 모델 로드\n",
        "    model_v8  = YOLO(\"yolov8n.pt\")\n",
        "    model_v11 = YOLO(\"yolo11n.pt\")\n",
        "\n",
        "\n",
        "    # 3. FPS 측정\n",
        "    fps_v8,  time_v8,  frames_v8  = measure_fps(model_v8,  video_path)\n",
        "    fps_v11, time_v11, frames_v11 = measure_fps(model_v11, video_path)\n",
        "\n",
        "\n",
        "    # 4. 테이블 작성\n",
        "    df = pd.DataFrame({\n",
        "    \"Model\": [\"YOLOv8n\", \"YOLOv11n\"],\n",
        "    \"Processed Frames\": [frames_v8, frames_v11],\n",
        "    \"Elapsed Time (s)\": [time_v8, time_v11],\n",
        "    \"FPS\": [fps_v8, fps_v11],\n",
        "    \"Δ FPS vs v8 (%)\": [\n",
        "        0,\n",
        "        round((fps_v11 - fps_v8) / fps_v8 * 100, 2)\n",
        "    ]\n",
        "})\n",
        "\n",
        "    # 5. 마크다운 저장\n",
        "    md_content = df.to_markdown(index=False)\n",
        "    with open(\"fps_comparison.md\", \"w\") as f:\n",
        "        f.write(\"# YOLO 모델 FPS 비교\\n\\n\")\n",
        "        f.write(\"※ 기준 모델: YOLOv8n\\n\\n\")\n",
        "        f.write(md_content)\n",
        "\n",
        "    # 6. Colab에서 출력\n",
        "    display(Markdown(f\"# ✅ YOLO 모델 FPS 비교 결과\\n\\n{md_content}\"))\n",
        "\n",
        "# ----------------------------------------------------------------------\n",
        "# ▶️ 실행: 유튜브 링크 입력 후 실행\n",
        "# ----------------------------------------------------------------------\n",
        "youtube_url = \"https://www.youtube.com/watch?v=Zl-AgE-8oUg\"\n",
        "run_fps_comparison(youtube_url)"
      ]
    }
  ]
}