{
  "nbformat": 4,
  "nbformat_minor": 0,
  "metadata": {
    "colab": {
      "provenance": [],
      "authorship_tag": "ABX9TyOZ2YkklsBwjOH6eKFUIHdh",
      "include_colab_link": true
    },
    "kernelspec": {
      "name": "python3",
      "display_name": "Python 3"
    },
    "language_info": {
      "name": "python"
    }
  },
  "cells": [
    {
      "cell_type": "markdown",
      "metadata": {
        "id": "view-in-github",
        "colab_type": "text"
      },
      "source": [
        "<a href=\"https://colab.research.google.com/github/SeungHwaJung/Auto-Mobile-/blob/main/0626_python_list_%26_class.ipynb\" target=\"_parent\"><img src=\"https://colab.research.google.com/assets/colab-badge.svg\" alt=\"Open In Colab\"/></a>"
      ]
    },
    {
      "cell_type": "markdown",
      "source": [
        "자율주행에 주로 쓰이는 list code"
      ],
      "metadata": {
        "id": "ICmA0szQ2ZyD"
      }
    },
    {
      "cell_type": "markdown",
      "source": [
        "객체 인식 결과 저장"
      ],
      "metadata": {
        "id": "W29HyTOt2hge"
      }
    },
    {
      "cell_type": "code",
      "execution_count": 1,
      "metadata": {
        "id": "EuhfHFIO2O_A"
      },
      "outputs": [],
      "source": [
        "detected_objects = [\"car\", \"pedestrian\", \"traffic light\", \"bicycle\"]"
      ]
    },
    {
      "cell_type": "markdown",
      "source": [
        "GPS 경로 좌표 리스트"
      ],
      "metadata": {
        "id": "5jcx-c2S2mZG"
      }
    },
    {
      "cell_type": "code",
      "source": [
        "gps_path = [(37.5665, 126.9780), (37.5651, 126.9770), (37.5640, 126.9760)]"
      ],
      "metadata": {
        "id": "AJoaixnf2olV"
      },
      "execution_count": 2,
      "outputs": []
    },
    {
      "cell_type": "markdown",
      "source": [
        "카메라 프레임 버퍼"
      ],
      "metadata": {
        "id": "jzJpiaWS2qVq"
      }
    },
    {
      "cell_type": "code",
      "source": [
        "import cv2\n",
        "\n",
        "camera_frames = []\n",
        "\n",
        "cap = cv2.VideoCapture(0)  # 웹캠 열기\n",
        "ret, current_frame = cap.read()\n",
        "\n",
        "if ret:\n",
        "    camera_frames.append(current_frame)\n",
        "\n",
        "cap.release()"
      ],
      "metadata": {
        "id": "UaL4vXL22sj_"
      },
      "execution_count": 9,
      "outputs": []
    },
    {
      "cell_type": "markdown",
      "source": [
        "차선 중심 좌표 저장"
      ],
      "metadata": {
        "id": "R0oonNI32uG7"
      }
    },
    {
      "cell_type": "code",
      "source": [
        "lane_center_positions = [320, 322, 325, 327]"
      ],
      "metadata": {
        "id": "MbiMUqAs2vK0"
      },
      "execution_count": 4,
      "outputs": []
    },
    {
      "cell_type": "markdown",
      "source": [
        "센서 데이터 기록 (라이다 거리값)"
      ],
      "metadata": {
        "id": "zFo5--cW2wI1"
      }
    },
    {
      "cell_type": "code",
      "source": [
        "lidar_distances = [1.2, 1.5, 2.1, 0.9, 3.0]"
      ],
      "metadata": {
        "id": "mCovyx6n2xdz"
      },
      "execution_count": 5,
      "outputs": []
    },
    {
      "cell_type": "markdown",
      "source": [
        "예측 경로 저장"
      ],
      "metadata": {
        "id": "HcHXldAe2y-N"
      }
    },
    {
      "cell_type": "code",
      "source": [
        "predicted_path = [(x, y) for x, y in zip(range(0, 10), range(0, 10))]"
      ],
      "metadata": {
        "id": "eqa_ZAkN2z93"
      },
      "execution_count": 6,
      "outputs": []
    },
    {
      "cell_type": "markdown",
      "source": [
        "정지 표지판 감지 여부 리스트"
      ],
      "metadata": {
        "id": "y3SASR_w21Pj"
      }
    },
    {
      "cell_type": "code",
      "source": [
        "stop_signs_detected = [False, False, True, False]"
      ],
      "metadata": {
        "id": "THbmBfir22Qf"
      },
      "execution_count": 7,
      "outputs": []
    },
    {
      "cell_type": "markdown",
      "source": [
        "자율주행 모드 기록"
      ],
      "metadata": {
        "id": "u_QO7Eat23Kx"
      }
    },
    {
      "cell_type": "code",
      "source": [
        "driving_modes = [\"manual\", \"autonomous\", \"autonomous\", \"manual\"]"
      ],
      "metadata": {
        "id": "wM23NPD124R3"
      },
      "execution_count": 8,
      "outputs": []
    }
  ]
}