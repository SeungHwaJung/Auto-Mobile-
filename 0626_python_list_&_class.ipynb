{
  "nbformat": 4,
  "nbformat_minor": 0,
  "metadata": {
    "colab": {
      "provenance": [],
      "authorship_tag": "ABX9TyPw27ne9vbfCrCxDBVnhfHd",
      "include_colab_link": true
    },
    "kernelspec": {
      "name": "python3",
      "display_name": "Python 3"
    },
    "language_info": {
      "name": "python"
    }
  },
  "cells": [
    {
      "cell_type": "markdown",
      "metadata": {
        "id": "view-in-github",
        "colab_type": "text"
      },
      "source": [
        "<a href=\"https://colab.research.google.com/github/SeungHwaJung/Auto-Mobile-/blob/main/0626_python_list_%26_class.ipynb\" target=\"_parent\"><img src=\"https://colab.research.google.com/assets/colab-badge.svg\" alt=\"Open In Colab\"/></a>"
      ]
    },
    {
      "cell_type": "markdown",
      "source": [
        "자율주행에 주로 쓰이는 list code"
      ],
      "metadata": {
        "id": "ICmA0szQ2ZyD"
      }
    },
    {
      "cell_type": "markdown",
      "source": [
        "객체 인식 결과 저장"
      ],
      "metadata": {
        "id": "W29HyTOt2hge"
      }
    },
    {
      "cell_type": "code",
      "execution_count": 1,
      "metadata": {
        "id": "EuhfHFIO2O_A"
      },
      "outputs": [],
      "source": [
        "detected_objects = [\"car\", \"pedestrian\", \"traffic light\", \"bicycle\"]"
      ]
    },
    {
      "cell_type": "markdown",
      "source": [
        "GPS 경로 좌표 리스트(위도, 경도)"
      ],
      "metadata": {
        "id": "5jcx-c2S2mZG"
      }
    },
    {
      "cell_type": "code",
      "source": [
        "gps_path = [(37.1425, 127.0750), (37.5651, 126.9770), (37.5640, 126.9760)]"
      ],
      "metadata": {
        "id": "AJoaixnf2olV"
      },
      "execution_count": 14,
      "outputs": []
    },
    {
      "cell_type": "markdown",
      "source": [
        "차선 중심 좌표 저장(프레임 당 x축 거리)\n",
        "> average를 구해서 총 합을 4로 나눠주어 average를 구함"
      ],
      "metadata": {
        "id": "R0oonNI32uG7"
      }
    },
    {
      "cell_type": "code",
      "source": [
        "lane_center_positions = [320, 322, 325, 327]"
      ],
      "metadata": {
        "id": "MbiMUqAs2vK0"
      },
      "execution_count": 12,
      "outputs": []
    },
    {
      "cell_type": "markdown",
      "source": [
        "센서 데이터 기록 (라이다 거리값)"
      ],
      "metadata": {
        "id": "zFo5--cW2wI1"
      }
    },
    {
      "cell_type": "code",
      "source": [
        "lidar_distances = [1.2, 1.5, 2.1, 0.9, 3.0]"
      ],
      "metadata": {
        "id": "mCovyx6n2xdz"
      },
      "execution_count": 13,
      "outputs": []
    },
    {
      "cell_type": "markdown",
      "source": [
        "예측 경로 저장"
      ],
      "metadata": {
        "id": "HcHXldAe2y-N"
      }
    },
    {
      "cell_type": "code",
      "source": [
        "predicted_path = [(x, y) for x, y in zip(range(0, 10), range(0, 10))]"
      ],
      "metadata": {
        "id": "eqa_ZAkN2z93"
      },
      "execution_count": 6,
      "outputs": []
    },
    {
      "cell_type": "markdown",
      "source": [
        "정지 표지판 감지 여부 리스트"
      ],
      "metadata": {
        "id": "y3SASR_w21Pj"
      }
    },
    {
      "cell_type": "code",
      "source": [
        "stop_signs_detected = [False, False, True, False]"
      ],
      "metadata": {
        "id": "THbmBfir22Qf"
      },
      "execution_count": 7,
      "outputs": []
    },
    {
      "cell_type": "markdown",
      "source": [
        "자율주행 모드 기록"
      ],
      "metadata": {
        "id": "u_QO7Eat23Kx"
      }
    },
    {
      "cell_type": "code",
      "source": [
        "driving_modes = [\"manual\", \"autonomous\", \"autonomous\", \"manual\"]"
      ],
      "metadata": {
        "id": "wM23NPD124R3"
      },
      "execution_count": 8,
      "outputs": []
    },
    {
      "cell_type": "markdown",
      "source": [
        "객체 인식 결과 저장-2"
      ],
      "metadata": {
        "id": "CY420Vze_4HO"
      }
    },
    {
      "cell_type": "code",
      "source": [
        "detected_objects = [\"car\", \"pedestrian\", \"traffic light\", \"bicycle\"]\n",
        "\n",
        "for obj in detected_objects:\n",
        "    if obj == \"pedestrian\":\n",
        "        print(\"XXX 사람 감지! 속도 줄이기\")\n",
        "    else:\n",
        "        print(f\"감지된 객체: {obj}\")"
      ],
      "metadata": {
        "colab": {
          "base_uri": "https://localhost:8080/"
        },
        "id": "P0iUDu-NA7gA",
        "outputId": "ff38891a-6e3c-4d50-8279-f5bb2d1924c3"
      },
      "execution_count": 15,
      "outputs": [
        {
          "output_type": "stream",
          "name": "stdout",
          "text": [
            "감지된 객체: car\n",
            "XXX 사람 감지! 속도 줄이기\n",
            "감지된 객체: traffic light\n",
            "감지된 객체: bicycle\n"
          ]
        }
      ]
    },
    {
      "cell_type": "markdown",
      "source": [
        "GPS 경로 좌표 리스트-2 (위도, 경도)"
      ],
      "metadata": {
        "id": "FB1FdP2tA9MS"
      }
    },
    {
      "cell_type": "code",
      "source": [
        "gps_path = [(37.1425, 127.0750), (37.1430, 127.0755), (37.1420, 127.0745)]\n",
        "\n",
        "for lat, lon in gps_path:\n",
        "    if lat < 37.5650:\n",
        "        print(f\"X위험구역 접근: 위도 {lat}\")\n",
        "    else:\n",
        "        print(f\"안전한 위치: 위도 {lat}, 경도 {lon}\")"
      ],
      "metadata": {
        "colab": {
          "base_uri": "https://localhost:8080/"
        },
        "id": "Q9QNOM5XA_jW",
        "outputId": "a29045c0-32b2-415d-a566-7b786bf7d222"
      },
      "execution_count": 23,
      "outputs": [
        {
          "output_type": "stream",
          "name": "stdout",
          "text": [
            "X위험구역 접근: 위도 37.1425\n",
            "X위험구역 접근: 위도 37.143\n",
            "X위험구역 접근: 위도 37.142\n"
          ]
        }
      ]
    },
    {
      "cell_type": "markdown",
      "source": [
        "카메라 프레임 버퍼-2"
      ],
      "metadata": {
        "id": "jvktpJieBJRJ"
      }
    },
    {
      "cell_type": "code",
      "source": [
        "camera_frames = [\"frame1.jpg\", \"frame2.jpg\", \"frame3.jpg\"]\n",
        "\n",
        "for frame in camera_frames:\n",
        "    if \"2\" in frame:\n",
        "        print(f\" 중요 프레임: {frame}\")\n",
        "    else:\n",
        "        print(f\"일반 프레임 처리: {frame}\")"
      ],
      "metadata": {
        "colab": {
          "base_uri": "https://localhost:8080/"
        },
        "id": "B_ebHksmBKvt",
        "outputId": "2d9dee76-9cc0-4f21-e1d2-7d80506e22a1"
      },
      "execution_count": 17,
      "outputs": [
        {
          "output_type": "stream",
          "name": "stdout",
          "text": [
            "일반 프레임 처리: frame1.jpg\n",
            " 중요 프레임: frame2.jpg\n",
            "일반 프레임 처리: frame3.jpg\n"
          ]
        }
      ]
    },
    {
      "cell_type": "markdown",
      "source": [
        "차선 중심 좌표 저장"
      ],
      "metadata": {
        "id": "kvIyz5YHBMAt"
      }
    },
    {
      "cell_type": "code",
      "source": [
        "lane_center_positions = [320, 322, 325, 350]\n",
        "ideal_center = 320\n",
        "tolerance = 20\n",
        "\n",
        "for center in lane_center_positions:\n",
        "    if abs(center - ideal_center) > tolerance:\n",
        "        print(f\"X 차선 중심 이상: {center}\")\n",
        "    else:\n",
        "        print(f\"O 정상 차선: {center}\")"
      ],
      "metadata": {
        "colab": {
          "base_uri": "https://localhost:8080/"
        },
        "id": "uWFww4AzBM1x",
        "outputId": "4392ea55-ab5f-4193-e881-6c9353ff2757"
      },
      "execution_count": 18,
      "outputs": [
        {
          "output_type": "stream",
          "name": "stdout",
          "text": [
            "O 정상 차선: 320\n",
            "O 정상 차선: 322\n",
            "O 정상 차선: 325\n",
            "X 차선 중심 이상: 350\n"
          ]
        }
      ]
    },
    {
      "cell_type": "markdown",
      "source": [
        "라이다 거리값 저장-2"
      ],
      "metadata": {
        "id": "thh7xheBBONw"
      }
    },
    {
      "cell_type": "code",
      "source": [
        "lidar_distances = [1.2, 1.5, 2.1, 0.9, 3.0]\n",
        "\n",
        "for dist in lidar_distances:\n",
        "    if dist < 1.0:\n",
        "        print(f\"X 너무 가까움! ({dist}m)\")\n",
        "    else:\n",
        "        print(f\"O 거리 안전 ({dist}m)\")"
      ],
      "metadata": {
        "colab": {
          "base_uri": "https://localhost:8080/"
        },
        "id": "XpDzwbNZBQCy",
        "outputId": "7aa4c91c-8bab-4f49-84d0-d500d2c1e701"
      },
      "execution_count": 19,
      "outputs": [
        {
          "output_type": "stream",
          "name": "stdout",
          "text": [
            "O 거리 안전 (1.2m)\n",
            "O 거리 안전 (1.5m)\n",
            "O 거리 안전 (2.1m)\n",
            "X 너무 가까움! (0.9m)\n",
            "O 거리 안전 (3.0m)\n"
          ]
        }
      ]
    },
    {
      "cell_type": "markdown",
      "source": [
        "예측 경로 저장-2"
      ],
      "metadata": {
        "id": "4hWX4FGuBT2G"
      }
    },
    {
      "cell_type": "code",
      "source": [
        "predicted_path = [(x, x + 1) for x in range(5)]  # 예: [(0,1), (1,2), ...]\n",
        "for x, y in predicted_path:\n",
        "    if y - x != 1:\n",
        "        print(f\"X 비정상 궤적: ({x}, {y})\")\n",
        "    else:\n",
        "        print(f\"예상 경로 정상: ({x}, {y})\")"
      ],
      "metadata": {
        "colab": {
          "base_uri": "https://localhost:8080/"
        },
        "id": "KnCHDPfRBU7I",
        "outputId": "e15dc45e-cef0-40a2-a4b0-8fd96a7c3398"
      },
      "execution_count": 20,
      "outputs": [
        {
          "output_type": "stream",
          "name": "stdout",
          "text": [
            "예상 경로 정상: (0, 1)\n",
            "예상 경로 정상: (1, 2)\n",
            "예상 경로 정상: (2, 3)\n",
            "예상 경로 정상: (3, 4)\n",
            "예상 경로 정상: (4, 5)\n"
          ]
        }
      ]
    },
    {
      "cell_type": "markdown",
      "source": [
        "정지 표지판 감지 여부-2"
      ],
      "metadata": {
        "id": "mpUt1yLABW-5"
      }
    },
    {
      "cell_type": "code",
      "source": [
        "stop_signs_detected = [False, False, True, False]\n",
        "\n",
        "for idx, detected in enumerate(stop_signs_detected):\n",
        "    if detected:\n",
        "        print(f\"🚦 {idx+1}번째 위치에 정지 표지판 감지됨\")"
      ],
      "metadata": {
        "colab": {
          "base_uri": "https://localhost:8080/"
        },
        "id": "a3aisnB1Ba8y",
        "outputId": "ae85d554-4041-4e5d-ed53-0acb3e991f91"
      },
      "execution_count": 21,
      "outputs": [
        {
          "output_type": "stream",
          "name": "stdout",
          "text": [
            "🚦 3번째 위치에 정지 표지판 감지됨\n"
          ]
        }
      ]
    },
    {
      "cell_type": "markdown",
      "source": [
        "자율주행 모드 기록-2"
      ],
      "metadata": {
        "id": "Ako_Cs3DBhpm"
      }
    },
    {
      "cell_type": "code",
      "source": [
        "driving_modes = [\"manual\", \"autonomous\", \"autonomous\", \"manual\"]\n",
        "\n",
        "for i in range(len(driving_modes)):\n",
        "    if driving_modes[i] == \"manual\":\n",
        "        print(f\"수동 운전 중 (프레임 {i})\")\n",
        "    else:\n",
        "        print(f\"자율 주행 중 (프레임 {i})\")"
      ],
      "metadata": {
        "colab": {
          "base_uri": "https://localhost:8080/"
        },
        "id": "PD5F15LXBk81",
        "outputId": "66adbe0d-0202-4682-b02e-7e6572e13ab0"
      },
      "execution_count": 22,
      "outputs": [
        {
          "output_type": "stream",
          "name": "stdout",
          "text": [
            "수동 운전 중 (프레임 0)\n",
            "자율 주행 중 (프레임 1)\n",
            "자율 주행 중 (프레임 2)\n",
            "수동 운전 중 (프레임 3)\n"
          ]
        }
      ]
    }
  ]
}