{
  "nbformat": 4,
  "nbformat_minor": 0,
  "metadata": {
    "colab": {
      "provenance": [],
      "authorship_tag": "ABX9TyPha/TBqoBVXS0SyzzCXEe5",
      "include_colab_link": true
    },
    "kernelspec": {
      "name": "python3",
      "display_name": "Python 3"
    },
    "language_info": {
      "name": "python"
    }
  },
  "cells": [
    {
      "cell_type": "markdown",
      "metadata": {
        "id": "view-in-github",
        "colab_type": "text"
      },
      "source": [
        "<a href=\"https://colab.research.google.com/github/SeungHwaJung/Auto-Mobile-/blob/main/0701~02_python_flowchart.ipynb\" target=\"_parent\"><img src=\"https://colab.research.google.com/assets/colab-badge.svg\" alt=\"Open In Colab\"/></a>"
      ]
    },
    {
      "cell_type": "markdown",
      "source": [
        "센서 초기값 ![image.png](data:image/png;base64,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)"
      ],
      "metadata": {
        "id": "vLEAfOZp8pCI"
      }
    },
    {
      "cell_type": "code",
      "source": [
        "def init_sensors():\n",
        "  sensors = {\n",
        "      \"앞\": 15.0,\n",
        "      \"왼쪽\":15.0,\n",
        "      \"오른쪽\":15.0\n",
        "  }\n",
        "  print(\"센서 초기값:\", sensors)\n",
        "\n",
        "  return sensors\n",
        "\n",
        "  if __name__ == \"__main__\":\n",
        "    초기센서값 = init_sensors()\n",
        "    print(\"반환된 센서값:\", 초기센서값)"
      ],
      "metadata": {
        "id": "R6sc9YzCab34"
      },
      "execution_count": 1,
      "outputs": []
    },
    {
      "cell_type": "markdown",
      "source": [
        "앞쪽 스캔 해보기\n",
        " https://claude.ai/public/artifacts/2bacfb57-fa54-46bf-bd52-f4d858b045a4"
      ],
      "metadata": {
        "id": "Q5l4Cby68qVy"
      }
    },
    {
      "cell_type": "code",
      "source": [
        "def scan_front(x, y, obstacles, sensors):\n",
        "    print(\"2-04 앞쪽 스캔 시작\")\n",
        "\n",
        "    if (x, y + 1) in obstacles:\n",
        "        print(\"2-06 앞쪽 1칸 장애물 발견\")\n",
        "        sensors[\"앞\"] = 1.0\n",
        "    elif (x, y + 2) in obstacles:\n",
        "        print(\"2-10 앞쪽 2칸 장애물 발견\")\n",
        "        sensors[\"앞\"] = 2.0\n",
        "    elif (x, y + 3) in obstacles:\n",
        "        print(\"2-13 앞쪽 3칸 장애물 발견\")\n",
        "        sensors[\"앞\"] = 3.0\n",
        "    else:\n",
        "        print(\"2-15 앞쪽 장애물 없음 (센서값 15.0 유지)\")\n",
        "        sensors[\"앞\"] = 15.0\n",
        "\n",
        "    print(\"2-16 앞쪽 스캔 완료\")"
      ],
      "metadata": {
        "id": "eYElLkmUbthR"
      },
      "execution_count": 2,
      "outputs": []
    },
    {
      "cell_type": "markdown",
      "source": [
        "왼쪽 스캔으로 바꿔서 해보기 https://claude.ai/public/artifacts/0bd88961-bc8c-43b4-b40b-aa0a27fe96df"
      ],
      "metadata": {
        "id": "x-oCOp2i8rGU"
      }
    },
    {
      "cell_type": "code",
      "source": [
        "def scan_left(x, y, obstacles, sensors):\n",
        "    print(\"3-04 왼쪽 스캔 시작\")\n",
        "\n",
        "    if (x-1, y) in obstacles:\n",
        "        print(\"3-07 왼쪽 1칸 장애물 발견\")\n",
        "        sensors[\"왼쪽\"] = 1.0\n",
        "    elif (x-2, y) in obstacles:\n",
        "        print(\"3-10 왼쪽 2칸 장애물 발견\")\n",
        "        sensors[\"왼쪽\"] = 2.0\n",
        "    elif (x-3, y) in obstacles:\n",
        "        print(\"3-13 왼쪽 3칸 장애물 발견\")\n",
        "        sensors[\"왼쪽\"] = 3.0\n",
        "    else:\n",
        "        print(\"3-15 왼쪽 장애물 없음 (센서값 15.0 유지)\")\n",
        "        sensors[\"왼쪽\"] = 15.0\n",
        "\n",
        "    print(\"3-16 왼쪽 스캔 완료\")"
      ],
      "metadata": {
        "id": "eTswQEl2qNB8"
      },
      "execution_count": 3,
      "outputs": []
    },
    {
      "cell_type": "markdown",
      "source": [
        "오른쪽 스캔으로 바꿔보기"
      ],
      "metadata": {
        "id": "u868BBnY8r3X"
      }
    },
    {
      "cell_type": "code",
      "source": [
        "def scan_right(x, y, obstacles, sensors):\n",
        "    print(\"4-04 오른쪽 스캔 시작\")\n",
        "\n",
        "    if (x+1, y) in obstacles:\n",
        "        print(\"4-07 오른쪽 1칸 장애물 발견\")\n",
        "        sensors[\"오른쪽\"] = 1.0\n",
        "    elif (x+2, y) in obstacles:\n",
        "        print(\"4-10 오른쪽 2칸 장애물 발견\")\n",
        "        sensors[\"오른쪽\"] = 2.0\n",
        "    elif (x+3, y) in obstacles:\n",
        "        print(\"4-13 오른쪽 3칸 장애물 발견\")\n",
        "        sensors[\"오른쪽\"] = 3.0\n",
        "    else:\n",
        "        print(\"4-15 오른쪽 장애물 없음 (센서값 15.0 유지)\")\n",
        "        sensors[\"오른쪽\"] = 15.0\n",
        "\n",
        "    print(\"4-16 오른쪽 스캔 완료\")"
      ],
      "metadata": {
        "id": "UwvaAJMVqb4M"
      },
      "execution_count": 4,
      "outputs": []
    },
    {
      "cell_type": "markdown",
      "source": [
        "위치 데이터 기반으로 장애물 검사하기https://claude.ai/public/artifacts/27051f81-4a36-4075-8d2b-ec7199d9a7fb"
      ],
      "metadata": {
        "id": "Y-iHMi4m8si1"
      }
    },
    {
      "cell_type": "code",
      "source": [
        "def detect_obstacles(sensors, safe_distance):\n",
        "    print(\"함수 시작\")\n",
        "\n",
        "    # 입력 데이터 출력\n",
        "    print(\"입력 센서 데이터:\", sensors)\n",
        "    print(\"안전 거리 기준:\", safe_distance)\n",
        "\n",
        "    # 빈 리스트 생성\n",
        "    obstacles = []\n",
        "\n",
        "    # 반복문으로 각 센서 방향 확인\n",
        "    for direction, distance in sensors.items():\n",
        "        print(f\"현재 방향: {direction}, 거리: {distance}\")\n",
        "\n",
        "        # 위험 판단\n",
        "        if distance < safe_distance:\n",
        "            print(\"위험! 장애물 감지됨 - 목록에 추가\")\n",
        "            obstacles.append(direction)\n",
        "        else:\n",
        "            print(\"안전 - 장애물 없음\")\n",
        "\n",
        "    # 반복 종료 후 결과 출력\n",
        "    print(\"장애물 감지 완료\")\n",
        "    print(\"최종 장애물 리스트:\", obstacles)\n",
        "\n",
        "    # 리스트 반환\n",
        "    return obstacles"
      ],
      "metadata": {
        "id": "bGIaHlmFzq0U"
      },
      "execution_count": 5,
      "outputs": []
    },
    {
      "cell_type": "markdown",
      "source": [
        "https://claude.ai/public/artifacts/0071fea5-0417-4ac3-b753-5e47ea108c2a"
      ],
      "metadata": {
        "id": "N1kvtr5p08gC"
      }
    },
    {
      "cell_type": "code",
      "source": [
        "def update_sensor_data(position, obstacles):\n",
        "    print(\"5-4 함수 시작\")\n",
        "\n",
        "    # 위치 데이터 추출\n",
        "    x = position[\"x\"]\n",
        "    y = position[\"y\"]\n",
        "    print(\"5-6 위치 추출 완료\")\n",
        "    print(f\"5-7 현재 위치: x={x}, y={y}\")\n",
        "\n",
        "    # 센서 초기화\n",
        "    sensors = init_sensors()  # 모든 센서를 15.0으로 설정\n",
        "\n",
        "    # 방향별 스캔 수행\n",
        "    scan_front(x, y, obstacles, sensors)   # 앞쪽 1~3칸 장애물 검사\n",
        "    scan_left(x, y, obstacles, sensors)    # 왼쪽 1~3칸 장애물 검사\n",
        "    scan_right(x, y, obstacles, sensors)   # 오른쪽 1~3칸 장애물 검사\n",
        "\n",
        "    print(\"5-17 센서 업데이트 완료\")\n",
        "    print(\"최종 센서값:\", sensors)\n",
        "\n",
        "    return sensors"
      ],
      "metadata": {
        "id": "jtO-JgmZ084j"
      },
      "execution_count": 6,
      "outputs": []
    },
    {
      "cell_type": "markdown",
      "source": [
        "https://claude.ai/public/artifacts/27051f81-4a36-4075-8d2b-ec7199d9a7fb"
      ],
      "metadata": {
        "id": "rA0cmKMR1MsC"
      }
    },
    {
      "cell_type": "code",
      "source": [
        "def detect_obstacles(sensors, safe_distance):\n",
        "    print(\"함수 시작\")\n",
        "\n",
        "    # 입력 데이터 출력\n",
        "    print(\"입력 센서 데이터:\", sensors)\n",
        "    print(\"안전 거리 기준:\", safe_distance)\n",
        "\n",
        "    # 빈 리스트 생성\n",
        "    obstacles = []\n",
        "\n",
        "    # 반복문으로 각 센서 방향 확인\n",
        "    for direction, distance in sensors.items():\n",
        "        print(f\"현재 방향: {direction}, 거리: {distance}\")\n",
        "\n",
        "        # 위험 판단\n",
        "        if distance < safe_distance:\n",
        "            print(\"위험! 장애물 감지됨 - 목록에 추가\")\n",
        "            obstacles.append(direction)\n",
        "        else:\n",
        "            print(\"안전 - 장애물 없음\")\n",
        "\n",
        "    # 반복 종료 후 결과 출력\n",
        "    print(\"장애물 감지 완료\")\n",
        "    print(\"최종 장애물 리스트:\", obstacles)\n",
        "\n",
        "    # 리스트 반환\n",
        "    return obstacles"
      ],
      "metadata": {
        "id": "_sCVUWbW1M5o"
      },
      "execution_count": 7,
      "outputs": []
    },
    {
      "cell_type": "markdown",
      "source": [
        "https://claude.ai/public/artifacts/13112488-2160-4216-8845-4187a58f746c"
      ],
      "metadata": {
        "id": "6cUi2BUJg6CW"
      }
    },
    {
      "cell_type": "code",
      "source": [
        "def decide_action(obstacles):\n",
        "    print(\"행동 결정 시작\")\n",
        "    print(\"입력된 장애물 목록:\", obstacles)\n",
        "\n",
        "    # 장애물 전혀 없을 경우\n",
        "    if len(obstacles) == 0:\n",
        "        print(\"출력: 장애물 없음 → 전진\")\n",
        "        return \"직진\"\n",
        "\n",
        "    # 앞에 장애물이 없는 경우\n",
        "    if \"앞\" not in obstacles:\n",
        "        print(\"출력: 앞에 장애물 없음 → 직진\")\n",
        "        return \"직진\"\n",
        "\n",
        "    # 왼쪽이 비어 있으면 좌회전\n",
        "    if \"왼쪽\" not in obstacles:\n",
        "        print(\"출력: 왼쪽에 장애물 없음 → 좌회전\")\n",
        "        return \"좌회전\"\n",
        "\n",
        "    # 오른쪽이 비어 있으면 우회전\n",
        "    if \"오른쪽\" not in obstacles:\n",
        "        print(\"출력: 오른쪽에 장애물 없음 → 우회전\")\n",
        "        return \"우회전\"\n",
        "\n",
        "    # 모든 방향에 장애물이 있을 경우\n",
        "    print(\"출력: 모든 방향 장애물 존재 → 정지\")\n",
        "    return \"정지\""
      ],
      "metadata": {
        "id": "45zRoskHnvgS"
      },
      "execution_count": 8,
      "outputs": []
    },
    {
      "cell_type": "markdown",
      "source": [
        "https://claude.ai/public/artifacts/6ddac9ec-2dba-456b-bb09-bf6e277a8a06"
      ],
      "metadata": {
        "id": "zVu1W2Osg7HY"
      }
    },
    {
      "cell_type": "code",
      "source": [
        "class SimpleCar:\n",
        "    def __init__(self, name, x, y):\n",
        "        self.name = name\n",
        "        self.position = {\"x\": x, \"y\": y}\n",
        "        self.safe_distance = 10.0\n",
        "\n",
        "    def move_forward(self):\n",
        "        self.position[\"y\"] += 1\n",
        "        print(\"🚗 전진 → y + 1\")\n",
        "\n",
        "    def turn_left(self):\n",
        "        self.position[\"x\"] -= 1\n",
        "        print(\"↩️ 좌회전 → x - 1\")\n",
        "\n",
        "    def turn_right(self):\n",
        "        self.position[\"x\"] += 1\n",
        "        print(\"↪️ 우회전 → x + 1\")\n",
        "\n",
        "    def stop(self):\n",
        "        print(\"🛑 정지 → 현재 위치 유지\")\n",
        "\n",
        "    def execute_action(self, action):\n",
        "        print(f\"[행동 분석] 선택된 행동: {action}\")\n",
        "        if action == \"직진\":\n",
        "            self.move_forward()\n",
        "        elif action == \"좌회전\":\n",
        "            self.turn_left()\n",
        "        elif action == \"우회전\":\n",
        "            self.turn_right()\n",
        "        elif action == \"정지\":\n",
        "            self.stop()\n",
        "\n",
        ""
      ],
      "metadata": {
        "id": "1XMGVUEpg7aq"
      },
      "execution_count": 15,
      "outputs": []
    },
    {
      "cell_type": "markdown",
      "source": [
        "https://claude.ai/public/artifacts/76eafd8d-4d90-437d-be19-5bf67c275500"
      ],
      "metadata": {
        "id": "iFnEqiGc0PJi"
      }
    },
    {
      "cell_type": "code",
      "source": [
        "if __name__ == \"__main__\":\n",
        "    # 디버그 출력\n",
        "    print(\"9-3 메인 실행 시작\")\n",
        "\n",
        "    # 차량 생성\n",
        "    print(\"9-6 자동차 생성\")\n",
        "    car = SimpleCar(\"프렌다\", 3, 0)\n",
        "    print(f\"자동차 객체 생성: {car.name}, 시작 위치: {car.position}\")\n",
        "\n",
        "    # 장애물 설정\n",
        "    print(\"9-10 장애물 설정\")\n",
        "    obstacles = [(3, 2), (3, 3), (2, 4), (4, 5)]\n",
        "    print(\"9-12 장애물 설정 완료 → 장애물 리스트 출력\")\n",
        "    print(\"장애물 목록:\", obstacles)\n",
        "\n",
        "    # 시뮬레이션 시작\n",
        "    print(\"9-15 시뮬레이션 준비 완료\")\n",
        "    print(\"🚦 자율주행 시뮬레이션 시작!\")\n",
        "\n",
        "\n",
        "    # 종료\n",
        "    print(\"9-18 프로그램 종료\")"
      ],
      "metadata": {
        "id": "RSQVrdlo0QOY",
        "colab": {
          "base_uri": "https://localhost:8080/"
        },
        "outputId": "7ce5548d-5776-4cd3-e224-2867c3670201"
      },
      "execution_count": 14,
      "outputs": [
        {
          "output_type": "stream",
          "name": "stdout",
          "text": [
            "9-3 메인 실행 시작\n",
            "9-6 자동차 생성\n",
            "자동차 객체 생성: 프렌다, 시작 위치: {'x': 3, 'y': 0}\n",
            "9-10 장애물 설정\n",
            "9-12 장애물 설정 완료 → 장애물 리스트 출력\n",
            "장애물 목록: [(3, 2), (3, 3), (2, 4), (4, 5)]\n",
            "9-15 시뮬레이션 준비 완료\n",
            "🚦 자율주행 시뮬레이션 시작!\n",
            "9-18 프로그램 종료\n"
          ]
        }
      ]
    }
  ]
}