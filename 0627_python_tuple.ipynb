{
  "nbformat": 4,
  "nbformat_minor": 0,
  "metadata": {
    "colab": {
      "provenance": [],
      "authorship_tag": "ABX9TyOXk0NuHgloZlDwEzFIoOqA",
      "include_colab_link": true
    },
    "kernelspec": {
      "name": "python3",
      "display_name": "Python 3"
    },
    "language_info": {
      "name": "python"
    }
  },
  "cells": [
    {
      "cell_type": "markdown",
      "metadata": {
        "id": "view-in-github",
        "colab_type": "text"
      },
      "source": [
        "<a href=\"https://colab.research.google.com/github/SeungHwaJung/Auto-Mobile-/blob/main/0627_python_tuple.ipynb\" target=\"_parent\"><img src=\"https://colab.research.google.com/assets/colab-badge.svg\" alt=\"Open In Colab\"/></a>"
      ]
    },
    {
      "cell_type": "markdown",
      "source": [
        "튜플 생성"
      ],
      "metadata": {
        "id": "PBqP2Oa7S2v_"
      }
    },
    {
      "cell_type": "code",
      "execution_count": 10,
      "metadata": {
        "colab": {
          "base_uri": "https://localhost:8080/"
        },
        "id": "dYm05QQLS2N3",
        "outputId": "b4804892-9cc7-4860-923a-a933d5243c2e"
      },
      "outputs": [
        {
          "output_type": "stream",
          "name": "stdout",
          "text": [
            "('apple', 'banana', 'cherry')\n"
          ]
        }
      ],
      "source": [
        "thistuple = (\"apple\", \"banana\", \"cherry\")\n",
        "print(thistuple)"
      ]
    },
    {
      "cell_type": "markdown",
      "source": [
        "중복값 허용"
      ],
      "metadata": {
        "id": "rZajb4JZTFpL"
      }
    },
    {
      "cell_type": "code",
      "source": [
        "thistuple = (\"apple\", \"banana\", \"cherry\", \"apple\", \"cherry\")\n",
        "print(thistuple)"
      ],
      "metadata": {
        "colab": {
          "base_uri": "https://localhost:8080/"
        },
        "id": "f9k8Fx-rTIct",
        "outputId": "a5ffa824-f616-4115-8e76-988c080f4b1e"
      },
      "execution_count": 11,
      "outputs": [
        {
          "output_type": "stream",
          "name": "stdout",
          "text": [
            "('apple', 'banana', 'cherry', 'apple', 'cherry')\n"
          ]
        }
      ]
    },
    {
      "cell_type": "markdown",
      "source": [
        "인덱스 범위 지정"
      ],
      "metadata": {
        "id": "yS1UfwiWTKpn"
      }
    },
    {
      "cell_type": "code",
      "source": [
        "thistuple = (\"apple\", \"banana\", \"cherry\", \"orange\", \"kiwi\", \"melon\", \"mango\")\n",
        "print(thistuple[2:5])"
      ],
      "metadata": {
        "colab": {
          "base_uri": "https://localhost:8080/"
        },
        "id": "m_WAZIuITM-q",
        "outputId": "86872b92-fd69-4678-a4ca-8b672f7e0ec6"
      },
      "execution_count": 12,
      "outputs": [
        {
          "output_type": "stream",
          "name": "stdout",
          "text": [
            "('cherry', 'orange', 'kiwi')\n"
          ]
        }
      ]
    },
    {
      "cell_type": "markdown",
      "source": [
        "부분을 지정하여 제외"
      ],
      "metadata": {
        "id": "JstVgWXyTN3L"
      }
    },
    {
      "cell_type": "code",
      "source": [
        "thistuple = (\"apple\", \"banana\", \"cherry\", \"orange\", \"kiwi\", \"melon\", \"mango\")\n",
        "print(thistuple[:4])"
      ],
      "metadata": {
        "colab": {
          "base_uri": "https://localhost:8080/"
        },
        "id": "i1CKz5z-TXy0",
        "outputId": "035892a5-c89e-44ff-8664-e049946544b2"
      },
      "execution_count": 13,
      "outputs": [
        {
          "output_type": "stream",
          "name": "stdout",
          "text": [
            "('apple', 'banana', 'cherry', 'orange')\n"
          ]
        }
      ]
    },
    {
      "cell_type": "markdown",
      "source": [
        "일반 좌표 언패킹"
      ],
      "metadata": {
        "id": "3nozTFY2TZos"
      }
    },
    {
      "cell_type": "code",
      "source": [
        "vehicle_position = (127.0750, 37.1425)  # 경도, 위도\n",
        "\n",
        "longitude, latitude = vehicle_position\n",
        "print(f\"차량 위치: 경도 {longitude}, 위도 {latitude}\")"
      ],
      "metadata": {
        "colab": {
          "base_uri": "https://localhost:8080/"
        },
        "id": "TlkQJGmETb6x",
        "outputId": "842630ae-c56a-428a-8dc6-9d2f93e5cf4a"
      },
      "execution_count": 14,
      "outputs": [
        {
          "output_type": "stream",
          "name": "stdout",
          "text": [
            "차량 위치: 경도 127.075, 위도 37.1425\n"
          ]
        }
      ]
    },
    {
      "cell_type": "markdown",
      "source": [
        "센서 데이터 언패킹"
      ],
      "metadata": {
        "id": "ZFDi-g5bTdzv"
      }
    },
    {
      "cell_type": "code",
      "source": [
        "lidar_data = (9, 45)  # 거리(미터), 각도(도)\n",
        "\n",
        "distance, angle = lidar_data\n",
        "print(f\"라이다 감지: {distance}m, {angle}도\")"
      ],
      "metadata": {
        "colab": {
          "base_uri": "https://localhost:8080/"
        },
        "id": "oyM3fpHLTfKk",
        "outputId": "d54ae6db-8793-48e8-a806-2d5001d04478"
      },
      "execution_count": 15,
      "outputs": [
        {
          "output_type": "stream",
          "name": "stdout",
          "text": [
            "라이다 감지: 9m, 45도\n"
          ]
        }
      ]
    },
    {
      "cell_type": "markdown",
      "source": [
        "신호등과 교차로 등 정보 언패킹"
      ],
      "metadata": {
        "id": "BWXRHun4TgdV"
      }
    },
    {
      "cell_type": "code",
      "source": [
        "traffic_signal = ('초록', 15)  # 색상, 남은시간(초)\n",
        "\n",
        "color, time_left = traffic_signal\n",
        "print(f\"신호등: {color}, {time_left}초 남음\")"
      ],
      "metadata": {
        "colab": {
          "base_uri": "https://localhost:8080/"
        },
        "id": "US97u2D5Tith",
        "outputId": "22c36a2a-01b5-4440-cdd0-ea7a1f0ea395"
      },
      "execution_count": 16,
      "outputs": [
        {
          "output_type": "stream",
          "name": "stdout",
          "text": [
            "신호등: 초록, 15초 남음\n"
          ]
        }
      ]
    },
    {
      "cell_type": "markdown",
      "source": [
        "주차 공간 정보 언패킹"
      ],
      "metadata": {
        "id": "RrAfRCKyTlDo"
      }
    },
    {
      "cell_type": "code",
      "source": [
        "parking_spot = (4.5, 2.7, True)  # 길이(m), 폭(m), 사용가능여부\n",
        "\n",
        "length, width, available = parking_spot\n",
        "print(f\"주차공간: {length}m × {width}m, 사용가능: {available}\")"
      ],
      "metadata": {
        "colab": {
          "base_uri": "https://localhost:8080/"
        },
        "id": "DkR4FmClTlsb",
        "outputId": "15e48867-6fbd-4609-a525-31e27ef2b381"
      },
      "execution_count": 17,
      "outputs": [
        {
          "output_type": "stream",
          "name": "stdout",
          "text": [
            "주차공간: 4.5m × 2.7m, 사용가능: True\n"
          ]
        }
      ]
    },
    {
      "cell_type": "markdown",
      "source": [
        "배터리 상태 언패킹"
      ],
      "metadata": {
        "id": "oupTJu8STmFb"
      }
    },
    {
      "cell_type": "code",
      "source": [
        "battery_info = (80, 289, 'normal')  # 잔량(%), 주행가능거리(km), 상태\n",
        "\n",
        "charge_level, remaining_range, battery_status = battery_info\n",
        "print(f\"배터리: {charge_level}%, {remaining_range}km 주행가능, 상태: {battery_status}\")\n",
        "\n",
        "print(\"\\n\" + \"=\"*50)"
      ],
      "metadata": {
        "colab": {
          "base_uri": "https://localhost:8080/"
        },
        "id": "mRPO331LTnXO",
        "outputId": "5aba5217-ba0c-4eb1-a642-811a60cd0d40"
      },
      "execution_count": 18,
      "outputs": [
        {
          "output_type": "stream",
          "name": "stdout",
          "text": [
            "배터리: 80%, 289km 주행가능, 상태: normal\n",
            "\n",
            "==================================================\n"
          ]
        }
      ]
    },
    {
      "cell_type": "markdown",
      "source": [
        "튜플 + 리스트 : 여러 대의 차량 위치 저장"
      ],
      "metadata": {
        "id": "G6Y7GM07VwZ0"
      }
    },
    {
      "cell_type": "code",
      "source": [
        "vehicle_positions = [\n",
        "    (127.0750, 37.1425),  # 차량 1\n",
        "    (127.0748, 37.1427),  # 차량 2\n",
        "    (127.0752, 37.1423),  # 차량 3\n",
        "]\n",
        "\n",
        "for idx, (lon, lat) in enumerate(vehicle_positions, start=1):\n",
        "    print(f\"{idx}번 차량 위치: 경도 {lon}, 위도 {lat}\")"
      ],
      "metadata": {
        "colab": {
          "base_uri": "https://localhost:8080/"
        },
        "id": "jzTraZu0Vzi0",
        "outputId": "cc47393b-8d49-4d78-bc38-dc2551204c2a"
      },
      "execution_count": 19,
      "outputs": [
        {
          "output_type": "stream",
          "name": "stdout",
          "text": [
            "1번 차량 위치: 경도 127.075, 위도 37.1425\n",
            "2번 차량 위치: 경도 127.0748, 위도 37.1427\n",
            "3번 차량 위치: 경도 127.0752, 위도 37.1423\n"
          ]
        }
      ]
    },
    {
      "cell_type": "markdown",
      "source": [
        "튜플 + 딕셔너리: 신호등 감지 정보 저장"
      ],
      "metadata": {
        "id": "uO7iAOiBV2nV"
      }
    },
    {
      "cell_type": "code",
      "source": [
        "traffic_lights = {\n",
        "    \"A교차로\": (\"초록\", 10),\n",
        "    \"B교차로\": (\"빨강\", 20),\n",
        "    \"C교차로\": (\"노랑\", 5)\n",
        "}\n",
        "\n",
        "for location, (color, time_left) in traffic_lights.items():\n",
        "    if color == \"빨강\":\n",
        "        print(f\"{location}: 🛑 정지 ({time_left}초 남음)\")\n",
        "    else:\n",
        "        print(f\"{location}: ✅ 진행 가능 ({color}, {time_left}초 남음)\")"
      ],
      "metadata": {
        "colab": {
          "base_uri": "https://localhost:8080/"
        },
        "id": "xEDbbvhyV371",
        "outputId": "784fe086-2851-4d8b-edbe-5b27e3d8ad41"
      },
      "execution_count": 20,
      "outputs": [
        {
          "output_type": "stream",
          "name": "stdout",
          "text": [
            "A교차로: ✅ 진행 가능 (초록, 10초 남음)\n",
            "B교차로: 🛑 정지 (20초 남음)\n",
            "C교차로: ✅ 진행 가능 (노랑, 5초 남음)\n"
          ]
        }
      ]
    },
    {
      "cell_type": "markdown",
      "source": [
        "라이다 데이터 분석"
      ],
      "metadata": {
        "id": "JhhjjL8CV6B-"
      }
    },
    {
      "cell_type": "code",
      "source": [
        "lidar_readings = [(5, 30), (2, 90), (8, 45), (1, 60)]\n",
        "\n",
        "for distance, angle in lidar_readings:\n",
        "    if distance < 3:\n",
        "        print(f\"⚠️ 가까운 장애물 감지! 거리: {distance}m, 각도: {angle}°\")\n",
        "    else:\n",
        "        print(f\"정상 거리: {distance}m, 각도: {angle}°\")"
      ],
      "metadata": {
        "colab": {
          "base_uri": "https://localhost:8080/"
        },
        "id": "76VnxVPOV9CM",
        "outputId": "70f0a22d-f30c-4d06-ef20-38fbca57201e"
      },
      "execution_count": 21,
      "outputs": [
        {
          "output_type": "stream",
          "name": "stdout",
          "text": [
            "정상 거리: 5m, 각도: 30°\n",
            "⚠️ 가까운 장애물 감지! 거리: 2m, 각도: 90°\n",
            "정상 거리: 8m, 각도: 45°\n",
            "⚠️ 가까운 장애물 감지! 거리: 1m, 각도: 60°\n"
          ]
        }
      ]
    },
    {
      "cell_type": "markdown",
      "source": [
        "튜플 리스트로 배터리 상태 관리"
      ],
      "metadata": {
        "id": "NRPWDJTRV-Kx"
      }
    },
    {
      "cell_type": "code",
      "source": [
        "battery_status_list = [\n",
        "    (80, 289, 'normal'),\n",
        "    (45, 150, 'normal'),\n",
        "    (15, 30, 'low'),\n",
        "    (5, 10, 'critical')\n",
        "]\n",
        "\n",
        "for idx, (level, range_km, status) in enumerate(battery_status_list, start=1):\n",
        "    if level < 20:\n",
        "        print(f\"🚗 차량 {idx}: ⚠️ 배터리 부족! ({level}%, {range_km}km, {status})\")\n",
        "    else:\n",
        "        print(f\"🚗 차량 {idx}: 배터리 양호 ({level}%, {range_km}km)\")"
      ],
      "metadata": {
        "colab": {
          "base_uri": "https://localhost:8080/"
        },
        "id": "9IfzL_scV_mH",
        "outputId": "887b8f29-2350-4b28-8ca5-2b397ffff804"
      },
      "execution_count": 22,
      "outputs": [
        {
          "output_type": "stream",
          "name": "stdout",
          "text": [
            "🚗 차량 1: 배터리 양호 (80%, 289km)\n",
            "🚗 차량 2: 배터리 양호 (45%, 150km)\n",
            "🚗 차량 3: ⚠️ 배터리 부족! (15%, 30km, low)\n",
            "🚗 차량 4: ⚠️ 배터리 부족! (5%, 10km, critical)\n"
          ]
        }
      ]
    },
    {
      "cell_type": "markdown",
      "source": [
        "주차공간(튜플) + 리스트 + 조건 확인"
      ],
      "metadata": {
        "id": "QX95W6ASWCT7"
      }
    },
    {
      "cell_type": "code",
      "source": [
        "parking_spots = [\n",
        "    (4.5, 2.7, True),\n",
        "    (4.0, 2.5, False),\n",
        "    (5.0, 2.8, True)\n",
        "]\n",
        "\n",
        "for i, (length, width, available) in enumerate(parking_spots, start=1):\n",
        "    if available:\n",
        "        print(f\"🅿️ {i}번 주차공간 사용 가능: {length}m × {width}m\")\n",
        "    else:\n",
        "        print(f\"❌ {i}번 주차공간은 사용 불가\")"
      ],
      "metadata": {
        "colab": {
          "base_uri": "https://localhost:8080/"
        },
        "id": "fUV1hEvGWCnu",
        "outputId": "f2372e4d-85dc-4611-af27-c7c273ff3281"
      },
      "execution_count": 23,
      "outputs": [
        {
          "output_type": "stream",
          "name": "stdout",
          "text": [
            "🅿️ 1번 주차공간 사용 가능: 4.5m × 2.7m\n",
            "❌ 2번 주차공간은 사용 불가\n",
            "🅿️ 3번 주차공간 사용 가능: 5.0m × 2.8m\n"
          ]
        }
      ]
    }
  ]
}