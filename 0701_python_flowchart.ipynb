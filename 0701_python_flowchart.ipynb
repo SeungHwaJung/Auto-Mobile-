{
  "nbformat": 4,
  "nbformat_minor": 0,
  "metadata": {
    "colab": {
      "provenance": [],
      "authorship_tag": "ABX9TyMzX4vm2hkaDFV5YcH0ozZp",
      "include_colab_link": true
    },
    "kernelspec": {
      "name": "python3",
      "display_name": "Python 3"
    },
    "language_info": {
      "name": "python"
    }
  },
  "cells": [
    {
      "cell_type": "markdown",
      "metadata": {
        "id": "view-in-github",
        "colab_type": "text"
      },
      "source": [
        "<a href=\"https://colab.research.google.com/github/SeungHwaJung/Auto-Mobile-/blob/main/0701_python_flowchart.ipynb\" target=\"_parent\"><img src=\"https://colab.research.google.com/assets/colab-badge.svg\" alt=\"Open In Colab\"/></a>"
      ]
    },
    {
      "cell_type": "markdown",
      "source": [
        "센서 초기값 결정하기"
      ],
      "metadata": {
        "id": "vLEAfOZp8pCI"
      }
    },
    {
      "cell_type": "code",
      "source": [
        "def init_sensors():\n",
        "  sensors = {\n",
        "      \"앞\": 15.0,\n",
        "      \"왼쪽\":15.0,\n",
        "      \"오른쪽\":15.0\n",
        "  }\n",
        "  print(\"센서 초기값:\", sensors)\n",
        "\n",
        "  return sensors\n",
        "\n",
        "  if __name__ == \"__main__\":\n",
        "    초기센서값 = init_sensors()\n",
        "    print(\"반환된 센서값:\", 초기센서값)"
      ],
      "metadata": {
        "id": "R6sc9YzCab34"
      },
      "execution_count": 3,
      "outputs": []
    },
    {
      "cell_type": "markdown",
      "source": [
        "앞쪽 스캔 해보기"
      ],
      "metadata": {
        "id": "Q5l4Cby68qVy"
      }
    },
    {
      "cell_type": "code",
      "source": [
        "def scan_front(x, y, obstacles, sensors):\n",
        "    print(\"2-04 앞쪽 스캔 시작\")\n",
        "\n",
        "    if (x, y + 1) in obstacles:\n",
        "        print(\"2-06 앞쪽 1칸 장애물 발견\")\n",
        "        sensors[\"앞\"] = 1.0\n",
        "    elif (x, y + 2) in obstacles:\n",
        "        print(\"2-10 앞쪽 2칸 장애물 발견\")\n",
        "        sensors[\"앞\"] = 2.0\n",
        "    elif (x, y + 3) in obstacles:\n",
        "        print(\"2-13 앞쪽 3칸 장애물 발견\")\n",
        "        sensors[\"앞\"] = 3.0\n",
        "    else:\n",
        "        print(\"2-15 앞쪽 장애물 없음 (센서값 15.0 유지)\")\n",
        "        sensors[\"앞\"] = 15.0\n",
        "\n",
        "    print(\"2-16 앞쪽 스캔 완료\")"
      ],
      "metadata": {
        "id": "eYElLkmUbthR"
      },
      "execution_count": 4,
      "outputs": []
    },
    {
      "cell_type": "markdown",
      "source": [
        "왼쪽 스캔으로 바꿔서 해보기"
      ],
      "metadata": {
        "id": "x-oCOp2i8rGU"
      }
    },
    {
      "cell_type": "code",
      "source": [
        "def scan_front(x, y, obstacles, sensors):\n",
        "    print(\"3-04 왼쪽 스캔 시작\")\n",
        "\n",
        "    if (x-1, y) in obstacles:\n",
        "        print(\"3-07 왼쪽 1칸 장애물 발견\")\n",
        "        sensors[\"왼쪽\"] = 1.0\n",
        "    elif (x-2, y) in obstacles:\n",
        "        print(\"3-10 왼쪽 2칸 장애물 발견\")\n",
        "        sensors[\"왼쪽\"] = 2.0\n",
        "    elif (x-3, y) in obstacles:\n",
        "        print(\"3-13 왼쪽 3칸 장애물 발견\")\n",
        "        sensors[\"왼쪽\"] = 3.0\n",
        "    else:\n",
        "        print(\"3-15 왼쪽 장애물 없음 (센서값 15.0 유지)\")\n",
        "        sensors[\"왼쪽\"] = 15.0\n",
        "\n",
        "    print(\"3-16 왼쪽 스캔 완료\")"
      ],
      "metadata": {
        "id": "eTswQEl2qNB8"
      },
      "execution_count": 5,
      "outputs": []
    },
    {
      "cell_type": "markdown",
      "source": [
        "오른쪽 스캔으로 바꿔보기"
      ],
      "metadata": {
        "id": "u868BBnY8r3X"
      }
    },
    {
      "cell_type": "code",
      "source": [
        "def scan_front(x, y, obstacles, sensors):\n",
        "    print(\"4-04 오른쪽 스캔 시작\")\n",
        "\n",
        "    if (x+1, y) in obstacles:\n",
        "        print(\"4-07 오른쪽 1칸 장애물 발견\")\n",
        "        sensors[\"오른쪽\"] = 1.0\n",
        "    elif (x+2, y) in obstacles:\n",
        "        print(\"4-10 오른쪽 2칸 장애물 발견\")\n",
        "        sensors[\"오른쪽\"] = 2.0\n",
        "    elif (x+3, y) in obstacles:\n",
        "        print(\"4-13 오른쪽 3칸 장애물 발견\")\n",
        "        sensors[\"오른쪽\"] = 3.0\n",
        "    else:\n",
        "        print(\"4-15 오른쪽 장애물 없음 (센서값 15.0 유지)\")\n",
        "        sensors[\"오른쪽\"] = 15.0\n",
        "\n",
        "    print(\"4-16 오른쪽 스캔 완료\")"
      ],
      "metadata": {
        "id": "UwvaAJMVqb4M"
      },
      "execution_count": 6,
      "outputs": []
    },
    {
      "cell_type": "markdown",
      "source": [
        "위치 데이터 기반으로 장애물 검사하기"
      ],
      "metadata": {
        "id": "Y-iHMi4m8si1"
      }
    },
    {
      "cell_type": "code",
      "source": [
        "def update_sensor_data(position, obstacles):\n",
        "    print(\"함수 시작\")\n",
        "\n",
        "    # 위치 데이터 추출\n",
        "    x = position[\"x\"]\n",
        "    y = position[\"y\"]\n",
        "    print(\"위치 추출 완료\")\n",
        "    print(f\"현재 위치: x={x}, y={y}\")\n",
        "\n",
        "    # 센서 초기화\n",
        "    sensors = init_sensors()  # 모든 센서를 15.0으로 설정\n",
        "\n",
        "    # 스캔 수행\n",
        "    scan_front(x, y, obstacles, sensors)   # 앞쪽 1~3칸 장애물 검사\n",
        "    scan_left(x, y, obstacles, sensors)    # 왼쪽 1~3칸 장애물 검사\n",
        "    scan_right(x, y, obstacles, sensors)   # 오른쪽 1~3칸 장애물 검사\n",
        "\n",
        "    print(\"센서 업데이트 완료\")\n",
        "    print(\"최종 센서값:\", sensors)\n",
        "\n",
        "    return sensors"
      ],
      "metadata": {
        "id": "U0CFFN1LyNtI"
      },
      "execution_count": 7,
      "outputs": []
    },
    {
      "cell_type": "markdown",
      "source": [
        "거리에 따른 위험 판단"
      ],
      "metadata": {
        "id": "uBGknyIJ8tTv"
      }
    },
    {
      "cell_type": "code",
      "source": [
        "def detect_obstacles(sensors, safe_distance):\n",
        "    print(\"함수 시작\")\n",
        "\n",
        "    # 입력 데이터 출력\n",
        "    print(\"입력 센서 데이터:\", sensors)\n",
        "    print(\"안전 거리 기준:\", safe_distance)\n",
        "\n",
        "    # 빈 리스트 생성\n",
        "    obstacles = []\n",
        "\n",
        "    # 반복문으로 각 센서 방향 확인\n",
        "    for direction, distance in sensors.items():\n",
        "        print(f\"현재 방향: {direction}, 거리: {distance}\")\n",
        "\n",
        "        # 위험 판단\n",
        "        if distance < safe_distance:\n",
        "            print(\"위험! 장애물 감지됨 - 목록에 추가\")\n",
        "            obstacles.append(direction)\n",
        "        else:\n",
        "            print(\"안전 - 장애물 없음\")\n",
        "\n",
        "    # 반복 종료 후 결과 출력\n",
        "    print(\"장애물 감지 완료\")\n",
        "    print(\"최종 장애물 리스트:\", obstacles)\n",
        "\n",
        "    # 리스트 반환\n",
        "    return obstacles"
      ],
      "metadata": {
        "id": "bGIaHlmFzq0U"
      },
      "execution_count": 9,
      "outputs": []
    }
  ]
}